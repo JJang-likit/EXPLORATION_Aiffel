{
 "cells": [
  {
   "cell_type": "markdown",
   "id": "dd31efcf",
   "metadata": {},
   "source": [
    "# EP-14 Movielens 영화 추천 실습"
   ]
  },
  {
   "cell_type": "markdown",
   "id": "347e557d",
   "metadata": {},
   "source": [
    "## 진행 과정\n",
    "\n",
    "1. 데이터 준비 및 전처리\n",
    "2. 분석하기\n",
    "    - ratings에 있는 유니크한 영화 개수\n",
    "    - ratings에 있는 유니크한 사용자 수\n",
    "    - 가장 인기 있는 영화 30개(인기순)\n",
    "3. 내가 선호하는 영화 ratings에 추가하기\n",
    "4. CSR matrix를 직접 만들어보기\n",
    "5. 모델 구현 및 훈련\n",
    "6. 선호도 파악 및 추천받기"
   ]
  },
  {
   "cell_type": "markdown",
   "id": "4fcbe9ed",
   "metadata": {},
   "source": [
    "### 데이터 준비 및 전처리\n",
    "\n",
    "  - 이번에 활용하는 데이터셋은 Movielens 데이터입니다.\n",
    "  - 이번 노드를 진행함에 있어서 몇 가지의 전제조건이 있습니다.\n",
    "      1. 유저가 영화에 대해 평점을 매긴 데이터가 데이터 크기 별로 있습니다. MovieLens 1M Dataset 사용을 권장합니다.\n",
    "      2. 별점 데이터는 대표적인 explicit 데이터입니다. 하지만 implicit 데이터로 간주하고 테스트해 볼 수 있습니다.\n",
    "      3. 별점을 시청횟수로 해석해서 생각하겠습니다.\n",
    "      4. 또한 유저가 3점 미만으로 준 데이터는 선호하지 않는다고 가정하고 제외하겠습니다.\n",
    "  - Movielens 데이터는 인덱싱이 완료된 사용자-영화-평점 데이터가 깔끔하게 정리되어 있습니다."
   ]
  },
  {
   "cell_type": "code",
   "execution_count": 1,
   "id": "b4434ad3",
   "metadata": {},
   "outputs": [
    {
     "data": {
      "text/html": [
       "<div>\n",
       "<style scoped>\n",
       "    .dataframe tbody tr th:only-of-type {\n",
       "        vertical-align: middle;\n",
       "    }\n",
       "\n",
       "    .dataframe tbody tr th {\n",
       "        vertical-align: top;\n",
       "    }\n",
       "\n",
       "    .dataframe thead th {\n",
       "        text-align: right;\n",
       "    }\n",
       "</style>\n",
       "<table border=\"1\" class=\"dataframe\">\n",
       "  <thead>\n",
       "    <tr style=\"text-align: right;\">\n",
       "      <th></th>\n",
       "      <th>user_id</th>\n",
       "      <th>movie_id</th>\n",
       "      <th>ratings</th>\n",
       "      <th>timestamp</th>\n",
       "    </tr>\n",
       "  </thead>\n",
       "  <tbody>\n",
       "    <tr>\n",
       "      <th>0</th>\n",
       "      <td>1</td>\n",
       "      <td>1193</td>\n",
       "      <td>5</td>\n",
       "      <td>978300760</td>\n",
       "    </tr>\n",
       "    <tr>\n",
       "      <th>1</th>\n",
       "      <td>1</td>\n",
       "      <td>661</td>\n",
       "      <td>3</td>\n",
       "      <td>978302109</td>\n",
       "    </tr>\n",
       "    <tr>\n",
       "      <th>2</th>\n",
       "      <td>1</td>\n",
       "      <td>914</td>\n",
       "      <td>3</td>\n",
       "      <td>978301968</td>\n",
       "    </tr>\n",
       "    <tr>\n",
       "      <th>3</th>\n",
       "      <td>1</td>\n",
       "      <td>3408</td>\n",
       "      <td>4</td>\n",
       "      <td>978300275</td>\n",
       "    </tr>\n",
       "    <tr>\n",
       "      <th>4</th>\n",
       "      <td>1</td>\n",
       "      <td>2355</td>\n",
       "      <td>5</td>\n",
       "      <td>978824291</td>\n",
       "    </tr>\n",
       "  </tbody>\n",
       "</table>\n",
       "</div>"
      ],
      "text/plain": [
       "   user_id  movie_id  ratings  timestamp\n",
       "0        1      1193        5  978300760\n",
       "1        1       661        3  978302109\n",
       "2        1       914        3  978301968\n",
       "3        1      3408        4  978300275\n",
       "4        1      2355        5  978824291"
      ]
     },
     "execution_count": 1,
     "metadata": {},
     "output_type": "execute_result"
    }
   ],
   "source": [
    "import pandas as pd\n",
    "import os\n",
    "rating_file_path=os.getenv('HOME') + '/aiffel/recommendata_iu/data/ml-1m/ratings.dat'\n",
    "ratings_cols = ['user_id', 'movie_id', 'ratings', 'timestamp']\n",
    "ratings = pd.read_csv(rating_file_path, sep='::', names=ratings_cols, engine='python', encoding = \"ISO-8859-1\")\n",
    "orginal_data_size = len(ratings)\n",
    "ratings.head()"
   ]
  },
  {
   "cell_type": "code",
   "execution_count": 2,
   "id": "9f679a3c",
   "metadata": {},
   "outputs": [
    {
     "name": "stdout",
     "output_type": "stream",
     "text": [
      "orginal_data_size: 1000209, filtered_data_size: 836478\n",
      "Ratio of Remaining Data is 83.63%\n"
     ]
    }
   ],
   "source": [
    "# 3점 이상만 남깁니다.\n",
    "ratings = ratings[ratings['ratings']>=3]\n",
    "filtered_data_size = len(ratings)\n",
    "\n",
    "print(f'orginal_data_size: {orginal_data_size}, filtered_data_size: {filtered_data_size}')\n",
    "print(f'Ratio of Remaining Data is {filtered_data_size / orginal_data_size:.2%}')"
   ]
  },
  {
   "cell_type": "code",
   "execution_count": 3,
   "id": "ce4763a5",
   "metadata": {},
   "outputs": [],
   "source": [
    "# ratings 컬럼의 이름을 counts로 바꿉니다.\n",
    "ratings.rename(columns={'ratings':'counts'}, inplace=True)"
   ]
  },
  {
   "cell_type": "code",
   "execution_count": 4,
   "id": "259e40e4",
   "metadata": {},
   "outputs": [
    {
     "data": {
      "text/plain": [
       "0          5\n",
       "1          3\n",
       "2          3\n",
       "3          4\n",
       "4          5\n",
       "          ..\n",
       "1000203    3\n",
       "1000205    5\n",
       "1000206    5\n",
       "1000207    4\n",
       "1000208    4\n",
       "Name: counts, Length: 836478, dtype: int64"
      ]
     },
     "execution_count": 4,
     "metadata": {},
     "output_type": "execute_result"
    }
   ],
   "source": [
    "ratings['counts']"
   ]
  },
  {
   "cell_type": "code",
   "execution_count": 5,
   "id": "1e0737b4",
   "metadata": {
    "scrolled": true
   },
   "outputs": [
    {
     "data": {
      "text/html": [
       "<div>\n",
       "<style scoped>\n",
       "    .dataframe tbody tr th:only-of-type {\n",
       "        vertical-align: middle;\n",
       "    }\n",
       "\n",
       "    .dataframe tbody tr th {\n",
       "        vertical-align: top;\n",
       "    }\n",
       "\n",
       "    .dataframe thead th {\n",
       "        text-align: right;\n",
       "    }\n",
       "</style>\n",
       "<table border=\"1\" class=\"dataframe\">\n",
       "  <thead>\n",
       "    <tr style=\"text-align: right;\">\n",
       "      <th></th>\n",
       "      <th>movie_id</th>\n",
       "      <th>title</th>\n",
       "      <th>genre</th>\n",
       "    </tr>\n",
       "  </thead>\n",
       "  <tbody>\n",
       "    <tr>\n",
       "      <th>0</th>\n",
       "      <td>1</td>\n",
       "      <td>Toy Story (1995)</td>\n",
       "      <td>Animation|Children's|Comedy</td>\n",
       "    </tr>\n",
       "    <tr>\n",
       "      <th>1</th>\n",
       "      <td>2</td>\n",
       "      <td>Jumanji (1995)</td>\n",
       "      <td>Adventure|Children's|Fantasy</td>\n",
       "    </tr>\n",
       "    <tr>\n",
       "      <th>2</th>\n",
       "      <td>3</td>\n",
       "      <td>Grumpier Old Men (1995)</td>\n",
       "      <td>Comedy|Romance</td>\n",
       "    </tr>\n",
       "    <tr>\n",
       "      <th>3</th>\n",
       "      <td>4</td>\n",
       "      <td>Waiting to Exhale (1995)</td>\n",
       "      <td>Comedy|Drama</td>\n",
       "    </tr>\n",
       "    <tr>\n",
       "      <th>4</th>\n",
       "      <td>5</td>\n",
       "      <td>Father of the Bride Part II (1995)</td>\n",
       "      <td>Comedy</td>\n",
       "    </tr>\n",
       "  </tbody>\n",
       "</table>\n",
       "</div>"
      ],
      "text/plain": [
       "   movie_id                               title                         genre\n",
       "0         1                    Toy Story (1995)   Animation|Children's|Comedy\n",
       "1         2                      Jumanji (1995)  Adventure|Children's|Fantasy\n",
       "2         3             Grumpier Old Men (1995)                Comedy|Romance\n",
       "3         4            Waiting to Exhale (1995)                  Comedy|Drama\n",
       "4         5  Father of the Bride Part II (1995)                        Comedy"
      ]
     },
     "execution_count": 5,
     "metadata": {},
     "output_type": "execute_result"
    }
   ],
   "source": [
    "# 영화 제목을 보기 위해 메타 데이터를 읽어옵니다.\n",
    "movie_file_path=os.getenv('HOME') + '/aiffel/recommendata_iu/data/ml-1m/movies.dat'\n",
    "cols = ['movie_id', 'title', 'genre'] \n",
    "movies = pd.read_csv(movie_file_path, sep='::', names=cols, engine='python', encoding='ISO-8859-1')\n",
    "movies.head()"
   ]
  },
  {
   "cell_type": "code",
   "execution_count": 6,
   "id": "cb3c9196",
   "metadata": {
    "scrolled": true
   },
   "outputs": [
    {
     "data": {
      "text/html": [
       "<div>\n",
       "<style scoped>\n",
       "    .dataframe tbody tr th:only-of-type {\n",
       "        vertical-align: middle;\n",
       "    }\n",
       "\n",
       "    .dataframe tbody tr th {\n",
       "        vertical-align: top;\n",
       "    }\n",
       "\n",
       "    .dataframe thead th {\n",
       "        text-align: right;\n",
       "    }\n",
       "</style>\n",
       "<table border=\"1\" class=\"dataframe\">\n",
       "  <thead>\n",
       "    <tr style=\"text-align: right;\">\n",
       "      <th></th>\n",
       "      <th>user_id</th>\n",
       "      <th>movie_id</th>\n",
       "      <th>counts</th>\n",
       "      <th>timestamp</th>\n",
       "      <th>title</th>\n",
       "      <th>genre</th>\n",
       "    </tr>\n",
       "  </thead>\n",
       "  <tbody>\n",
       "    <tr>\n",
       "      <th>0</th>\n",
       "      <td>1</td>\n",
       "      <td>1193</td>\n",
       "      <td>5</td>\n",
       "      <td>978300760</td>\n",
       "      <td>One Flew Over the Cuckoo's Nest (1975)</td>\n",
       "      <td>Drama</td>\n",
       "    </tr>\n",
       "    <tr>\n",
       "      <th>1</th>\n",
       "      <td>1</td>\n",
       "      <td>661</td>\n",
       "      <td>3</td>\n",
       "      <td>978302109</td>\n",
       "      <td>James and the Giant Peach (1996)</td>\n",
       "      <td>Animation|Children's|Musical</td>\n",
       "    </tr>\n",
       "    <tr>\n",
       "      <th>2</th>\n",
       "      <td>1</td>\n",
       "      <td>914</td>\n",
       "      <td>3</td>\n",
       "      <td>978301968</td>\n",
       "      <td>My Fair Lady (1964)</td>\n",
       "      <td>Musical|Romance</td>\n",
       "    </tr>\n",
       "    <tr>\n",
       "      <th>3</th>\n",
       "      <td>1</td>\n",
       "      <td>3408</td>\n",
       "      <td>4</td>\n",
       "      <td>978300275</td>\n",
       "      <td>Erin Brockovich (2000)</td>\n",
       "      <td>Drama</td>\n",
       "    </tr>\n",
       "    <tr>\n",
       "      <th>4</th>\n",
       "      <td>1</td>\n",
       "      <td>2355</td>\n",
       "      <td>5</td>\n",
       "      <td>978824291</td>\n",
       "      <td>Bug's Life, A (1998)</td>\n",
       "      <td>Animation|Children's|Comedy</td>\n",
       "    </tr>\n",
       "  </tbody>\n",
       "</table>\n",
       "</div>"
      ],
      "text/plain": [
       "   user_id  movie_id  counts  timestamp  \\\n",
       "0        1      1193       5  978300760   \n",
       "1        1       661       3  978302109   \n",
       "2        1       914       3  978301968   \n",
       "3        1      3408       4  978300275   \n",
       "4        1      2355       5  978824291   \n",
       "\n",
       "                                    title                         genre  \n",
       "0  One Flew Over the Cuckoo's Nest (1975)                         Drama  \n",
       "1        James and the Giant Peach (1996)  Animation|Children's|Musical  \n",
       "2                     My Fair Lady (1964)               Musical|Romance  \n",
       "3                  Erin Brockovich (2000)                         Drama  \n",
       "4                    Bug's Life, A (1998)   Animation|Children's|Comedy  "
      ]
     },
     "execution_count": 6,
     "metadata": {},
     "output_type": "execute_result"
    }
   ],
   "source": [
    "# ratings 와 movies 데이터 프레임 합치기\n",
    "\n",
    "data = ratings.join(movies.set_index('movie_id'), on='movie_id')\n",
    "data.head()"
   ]
  },
  {
   "cell_type": "code",
   "execution_count": 7,
   "id": "0a93ac9e",
   "metadata": {},
   "outputs": [
    {
     "data": {
      "text/html": [
       "<div>\n",
       "<style scoped>\n",
       "    .dataframe tbody tr th:only-of-type {\n",
       "        vertical-align: middle;\n",
       "    }\n",
       "\n",
       "    .dataframe tbody tr th {\n",
       "        vertical-align: top;\n",
       "    }\n",
       "\n",
       "    .dataframe thead th {\n",
       "        text-align: right;\n",
       "    }\n",
       "</style>\n",
       "<table border=\"1\" class=\"dataframe\">\n",
       "  <thead>\n",
       "    <tr style=\"text-align: right;\">\n",
       "      <th></th>\n",
       "      <th>user_id</th>\n",
       "      <th>counts</th>\n",
       "      <th>title</th>\n",
       "    </tr>\n",
       "  </thead>\n",
       "  <tbody>\n",
       "    <tr>\n",
       "      <th>0</th>\n",
       "      <td>1</td>\n",
       "      <td>5</td>\n",
       "      <td>One Flew Over the Cuckoo's Nest (1975)</td>\n",
       "    </tr>\n",
       "    <tr>\n",
       "      <th>1</th>\n",
       "      <td>1</td>\n",
       "      <td>3</td>\n",
       "      <td>James and the Giant Peach (1996)</td>\n",
       "    </tr>\n",
       "    <tr>\n",
       "      <th>2</th>\n",
       "      <td>1</td>\n",
       "      <td>3</td>\n",
       "      <td>My Fair Lady (1964)</td>\n",
       "    </tr>\n",
       "    <tr>\n",
       "      <th>3</th>\n",
       "      <td>1</td>\n",
       "      <td>4</td>\n",
       "      <td>Erin Brockovich (2000)</td>\n",
       "    </tr>\n",
       "    <tr>\n",
       "      <th>4</th>\n",
       "      <td>1</td>\n",
       "      <td>5</td>\n",
       "      <td>Bug's Life, A (1998)</td>\n",
       "    </tr>\n",
       "    <tr>\n",
       "      <th>5</th>\n",
       "      <td>1</td>\n",
       "      <td>3</td>\n",
       "      <td>Princess Bride, The (1987)</td>\n",
       "    </tr>\n",
       "    <tr>\n",
       "      <th>6</th>\n",
       "      <td>1</td>\n",
       "      <td>5</td>\n",
       "      <td>Ben-Hur (1959)</td>\n",
       "    </tr>\n",
       "    <tr>\n",
       "      <th>7</th>\n",
       "      <td>1</td>\n",
       "      <td>5</td>\n",
       "      <td>Christmas Story, A (1983)</td>\n",
       "    </tr>\n",
       "    <tr>\n",
       "      <th>8</th>\n",
       "      <td>1</td>\n",
       "      <td>4</td>\n",
       "      <td>Snow White and the Seven Dwarfs (1937)</td>\n",
       "    </tr>\n",
       "    <tr>\n",
       "      <th>9</th>\n",
       "      <td>1</td>\n",
       "      <td>4</td>\n",
       "      <td>Wizard of Oz, The (1939)</td>\n",
       "    </tr>\n",
       "  </tbody>\n",
       "</table>\n",
       "</div>"
      ],
      "text/plain": [
       "   user_id  counts                                   title\n",
       "0        1       5  One Flew Over the Cuckoo's Nest (1975)\n",
       "1        1       3        James and the Giant Peach (1996)\n",
       "2        1       3                     My Fair Lady (1964)\n",
       "3        1       4                  Erin Brockovich (2000)\n",
       "4        1       5                    Bug's Life, A (1998)\n",
       "5        1       3              Princess Bride, The (1987)\n",
       "6        1       5                          Ben-Hur (1959)\n",
       "7        1       5               Christmas Story, A (1983)\n",
       "8        1       4  Snow White and the Seven Dwarfs (1937)\n",
       "9        1       4                Wizard of Oz, The (1939)"
      ]
     },
     "execution_count": 7,
     "metadata": {},
     "output_type": "execute_result"
    }
   ],
   "source": [
    "# 사용하는 컬럼만 남겨줍니다.\n",
    "\n",
    "using_cols = ['user_id', 'counts', 'title']\n",
    "data = data[using_cols]\n",
    "data.head(10)"
   ]
  },
  {
   "cell_type": "markdown",
   "id": "456b01bd",
   "metadata": {},
   "source": [
    "### 분석하기\n",
    "\n",
    "  - 유니크한 영화 개수 및 유니크한 사용자의 수, 가장 인기있는 영화 30개가 어떤 것이 있는지 분석해보겠습니다."
   ]
  },
  {
   "cell_type": "code",
   "execution_count": 8,
   "id": "343c5580",
   "metadata": {},
   "outputs": [
    {
     "data": {
      "text/plain": [
       "3628"
      ]
     },
     "execution_count": 8,
     "metadata": {},
     "output_type": "execute_result"
    }
   ],
   "source": [
    "# 영화 개수\n",
    "\n",
    "data['title'].nunique()"
   ]
  },
  {
   "cell_type": "code",
   "execution_count": 9,
   "id": "57c60138",
   "metadata": {},
   "outputs": [
    {
     "data": {
      "text/plain": [
       "6039"
      ]
     },
     "execution_count": 9,
     "metadata": {},
     "output_type": "execute_result"
    }
   ],
   "source": [
    "# 사용자의 수\n",
    "\n",
    "data['user_id'].nunique()"
   ]
  },
  {
   "cell_type": "code",
   "execution_count": 10,
   "id": "35531ddf",
   "metadata": {},
   "outputs": [
    {
     "data": {
      "text/plain": [
       "title\n",
       "American Beauty (1999)                                   3211\n",
       "Star Wars: Episode IV - A New Hope (1977)                2910\n",
       "Star Wars: Episode V - The Empire Strikes Back (1980)    2885\n",
       "Star Wars: Episode VI - Return of the Jedi (1983)        2716\n",
       "Saving Private Ryan (1998)                               2561\n",
       "Terminator 2: Judgment Day (1991)                        2509\n",
       "Silence of the Lambs, The (1991)                         2498\n",
       "Raiders of the Lost Ark (1981)                           2473\n",
       "Back to the Future (1985)                                2460\n",
       "Matrix, The (1999)                                       2434\n",
       "Jurassic Park (1993)                                     2413\n",
       "Sixth Sense, The (1999)                                  2385\n",
       "Fargo (1996)                                             2371\n",
       "Braveheart (1995)                                        2314\n",
       "Men in Black (1997)                                      2297\n",
       "Schindler's List (1993)                                  2257\n",
       "Princess Bride, The (1987)                               2252\n",
       "Shakespeare in Love (1998)                               2213\n",
       "L.A. Confidential (1997)                                 2210\n",
       "Shawshank Redemption, The (1994)                         2194\n",
       "Godfather, The (1972)                                    2167\n",
       "Groundhog Day (1993)                                     2121\n",
       "E.T. the Extra-Terrestrial (1982)                        2102\n",
       "Being John Malkovich (1999)                              2066\n",
       "Ghostbusters (1984)                                      2051\n",
       "Pulp Fiction (1994)                                      2030\n",
       "Forrest Gump (1994)                                      2022\n",
       "Terminator, The (1984)                                   2019\n",
       "Toy Story (1995)                                         2000\n",
       "Fugitive, The (1993)                                     1941\n",
       "Name: user_id, dtype: int64"
      ]
     },
     "execution_count": 10,
     "metadata": {},
     "output_type": "execute_result"
    }
   ],
   "source": [
    "# 가장 인기있는 영화 30개\n",
    "\n",
    "movies_count = data.groupby('title')['user_id'].count()\n",
    "movies_count.sort_values(ascending=False).head(30)"
   ]
  },
  {
   "cell_type": "markdown",
   "id": "73f21aac",
   "metadata": {},
   "source": [
    "### 내가 선호하는 영화 ratings에 추가하기"
   ]
  },
  {
   "cell_type": "code",
   "execution_count": 11,
   "id": "c08f5197",
   "metadata": {},
   "outputs": [
    {
     "data": {
      "text/html": [
       "<div>\n",
       "<style scoped>\n",
       "    .dataframe tbody tr th:only-of-type {\n",
       "        vertical-align: middle;\n",
       "    }\n",
       "\n",
       "    .dataframe tbody tr th {\n",
       "        vertical-align: top;\n",
       "    }\n",
       "\n",
       "    .dataframe thead th {\n",
       "        text-align: right;\n",
       "    }\n",
       "</style>\n",
       "<table border=\"1\" class=\"dataframe\">\n",
       "  <thead>\n",
       "    <tr style=\"text-align: right;\">\n",
       "      <th></th>\n",
       "      <th>user_id</th>\n",
       "      <th>counts</th>\n",
       "      <th>title</th>\n",
       "    </tr>\n",
       "  </thead>\n",
       "  <tbody>\n",
       "    <tr>\n",
       "      <th>1000203</th>\n",
       "      <td>6040</td>\n",
       "      <td>3</td>\n",
       "      <td>Platoon (1986)</td>\n",
       "    </tr>\n",
       "    <tr>\n",
       "      <th>1000205</th>\n",
       "      <td>6040</td>\n",
       "      <td>5</td>\n",
       "      <td>Crying Game, The (1992)</td>\n",
       "    </tr>\n",
       "    <tr>\n",
       "      <th>1000206</th>\n",
       "      <td>6040</td>\n",
       "      <td>5</td>\n",
       "      <td>Welcome to the Dollhouse (1995)</td>\n",
       "    </tr>\n",
       "    <tr>\n",
       "      <th>1000207</th>\n",
       "      <td>6040</td>\n",
       "      <td>4</td>\n",
       "      <td>Sophie's Choice (1982)</td>\n",
       "    </tr>\n",
       "    <tr>\n",
       "      <th>1000208</th>\n",
       "      <td>6040</td>\n",
       "      <td>4</td>\n",
       "      <td>E.T. the Extra-Terrestrial (1982)</td>\n",
       "    </tr>\n",
       "    <tr>\n",
       "      <th>0</th>\n",
       "      <td>kris</td>\n",
       "      <td>10</td>\n",
       "      <td>My Fair Lady (1964)</td>\n",
       "    </tr>\n",
       "    <tr>\n",
       "      <th>1</th>\n",
       "      <td>kris</td>\n",
       "      <td>10</td>\n",
       "      <td>Terminator, The (1984)</td>\n",
       "    </tr>\n",
       "    <tr>\n",
       "      <th>2</th>\n",
       "      <td>kris</td>\n",
       "      <td>10</td>\n",
       "      <td>Men in Black (1997)</td>\n",
       "    </tr>\n",
       "    <tr>\n",
       "      <th>3</th>\n",
       "      <td>kris</td>\n",
       "      <td>10</td>\n",
       "      <td>Matrix, The (1999)</td>\n",
       "    </tr>\n",
       "    <tr>\n",
       "      <th>4</th>\n",
       "      <td>kris</td>\n",
       "      <td>10</td>\n",
       "      <td>Terminator 2: Judgment Day (1991)</td>\n",
       "    </tr>\n",
       "  </tbody>\n",
       "</table>\n",
       "</div>"
      ],
      "text/plain": [
       "        user_id  counts                              title\n",
       "1000203    6040       3                     Platoon (1986)\n",
       "1000205    6040       5            Crying Game, The (1992)\n",
       "1000206    6040       5    Welcome to the Dollhouse (1995)\n",
       "1000207    6040       4             Sophie's Choice (1982)\n",
       "1000208    6040       4  E.T. the Extra-Terrestrial (1982)\n",
       "0          kris      10                My Fair Lady (1964)\n",
       "1          kris      10             Terminator, The (1984)\n",
       "2          kris      10                Men in Black (1997)\n",
       "3          kris      10                 Matrix, The (1999)\n",
       "4          kris      10  Terminator 2: Judgment Day (1991)"
      ]
     },
     "execution_count": 11,
     "metadata": {},
     "output_type": "execute_result"
    }
   ],
   "source": [
    "# 본인이 좋아하시는 영화 데이터로 바꿔서 추가하셔도 됩니다! 단, 이름은 꼭 데이터셋에 있는 것과 동일하게 맞춰주세요. \n",
    "my_favorite = ['My Fair Lady (1964)' , 'Terminator, The (1984)' ,'Men in Black (1997)' ,'Matrix, The (1999)' ,'Terminator 2: Judgment Day (1991)']\n",
    "\n",
    "# 'kris'라는 user_id가 위 영화들을 10회씩 보았다고 가정하겠습니다.\n",
    "my_movielist = pd.DataFrame({'user_id': ['kris']*5, 'title': my_favorite, 'counts':[10]*5})\n",
    "\n",
    "if not data.isin({'user_id':['kris']})['user_id'].any():  # user_id에 'kris'이라는 데이터가 없다면\n",
    "    data = data.append(my_movielist)                           # 위에 임의로 만든 my_favorite 데이터를 추가해 줍니다. \n",
    "\n",
    "data.tail(10)       # 잘 추가되었는지 확인해 봅시다."
   ]
  },
  {
   "cell_type": "code",
   "execution_count": 12,
   "id": "392bf4a5",
   "metadata": {},
   "outputs": [],
   "source": [
    "# 모델에 활용하기 전 필요한 전처리 과정\n",
    "#고유한 유저, 영화를 찾아내는 코드\n",
    "user_unique = data['user_id'].unique()\n",
    "movie_unique = data['title'].unique()\n",
    "\n",
    "# 유저, 영화 indexing 하는 코드 idx는 index의 약자입니다.\n",
    "user_to_idx = {v:k for k,v in enumerate(user_unique)}\n",
    "movie_to_idx = {v:k for k,v in enumerate(movie_unique)}"
   ]
  },
  {
   "cell_type": "code",
   "execution_count": 13,
   "id": "8982e258",
   "metadata": {},
   "outputs": [
    {
     "name": "stdout",
     "output_type": "stream",
     "text": [
      "6039\n",
      "124\n"
     ]
    }
   ],
   "source": [
    "# 인덱싱이 잘 되었는지 확인해 봅니다. \n",
    "print(user_to_idx['kris'])    \n",
    "print(movie_to_idx['Matrix, The (1999)'])"
   ]
  },
  {
   "cell_type": "code",
   "execution_count": 14,
   "id": "8ffd82c3",
   "metadata": {},
   "outputs": [
    {
     "name": "stdout",
     "output_type": "stream",
     "text": [
      "user_id column indexing OK!!\n",
      "movie column indexing OK!!\n"
     ]
    },
    {
     "data": {
      "text/html": [
       "<div>\n",
       "<style scoped>\n",
       "    .dataframe tbody tr th:only-of-type {\n",
       "        vertical-align: middle;\n",
       "    }\n",
       "\n",
       "    .dataframe tbody tr th {\n",
       "        vertical-align: top;\n",
       "    }\n",
       "\n",
       "    .dataframe thead th {\n",
       "        text-align: right;\n",
       "    }\n",
       "</style>\n",
       "<table border=\"1\" class=\"dataframe\">\n",
       "  <thead>\n",
       "    <tr style=\"text-align: right;\">\n",
       "      <th></th>\n",
       "      <th>user_id</th>\n",
       "      <th>counts</th>\n",
       "      <th>title</th>\n",
       "    </tr>\n",
       "  </thead>\n",
       "  <tbody>\n",
       "    <tr>\n",
       "      <th>0</th>\n",
       "      <td>0</td>\n",
       "      <td>5</td>\n",
       "      <td>0</td>\n",
       "    </tr>\n",
       "    <tr>\n",
       "      <th>1</th>\n",
       "      <td>0</td>\n",
       "      <td>3</td>\n",
       "      <td>1</td>\n",
       "    </tr>\n",
       "    <tr>\n",
       "      <th>2</th>\n",
       "      <td>0</td>\n",
       "      <td>3</td>\n",
       "      <td>2</td>\n",
       "    </tr>\n",
       "    <tr>\n",
       "      <th>3</th>\n",
       "      <td>0</td>\n",
       "      <td>4</td>\n",
       "      <td>3</td>\n",
       "    </tr>\n",
       "    <tr>\n",
       "      <th>4</th>\n",
       "      <td>0</td>\n",
       "      <td>5</td>\n",
       "      <td>4</td>\n",
       "    </tr>\n",
       "    <tr>\n",
       "      <th>...</th>\n",
       "      <td>...</td>\n",
       "      <td>...</td>\n",
       "      <td>...</td>\n",
       "    </tr>\n",
       "    <tr>\n",
       "      <th>0</th>\n",
       "      <td>6039</td>\n",
       "      <td>10</td>\n",
       "      <td>2</td>\n",
       "    </tr>\n",
       "    <tr>\n",
       "      <th>1</th>\n",
       "      <td>6039</td>\n",
       "      <td>10</td>\n",
       "      <td>200</td>\n",
       "    </tr>\n",
       "    <tr>\n",
       "      <th>2</th>\n",
       "      <td>6039</td>\n",
       "      <td>10</td>\n",
       "      <td>175</td>\n",
       "    </tr>\n",
       "    <tr>\n",
       "      <th>3</th>\n",
       "      <td>6039</td>\n",
       "      <td>10</td>\n",
       "      <td>124</td>\n",
       "    </tr>\n",
       "    <tr>\n",
       "      <th>4</th>\n",
       "      <td>6039</td>\n",
       "      <td>10</td>\n",
       "      <td>92</td>\n",
       "    </tr>\n",
       "  </tbody>\n",
       "</table>\n",
       "<p>836483 rows × 3 columns</p>\n",
       "</div>"
      ],
      "text/plain": [
       "    user_id  counts  title\n",
       "0         0       5      0\n",
       "1         0       3      1\n",
       "2         0       3      2\n",
       "3         0       4      3\n",
       "4         0       5      4\n",
       "..      ...     ...    ...\n",
       "0      6039      10      2\n",
       "1      6039      10    200\n",
       "2      6039      10    175\n",
       "3      6039      10    124\n",
       "4      6039      10     92\n",
       "\n",
       "[836483 rows x 3 columns]"
      ]
     },
     "execution_count": 14,
     "metadata": {},
     "output_type": "execute_result"
    }
   ],
   "source": [
    "# indexing을 통해 데이터 컬럼 내 값을 바꾸는 코드\n",
    "# dictionary 자료형의 get 함수는 https://wikidocs.net/16 을 참고하세요.\n",
    "\n",
    "# user_to_idx.get을 통해 user_id 컬럼의 모든 값을 인덱싱한 Series를 구해 봅시다. \n",
    "# 혹시 정상적으로 인덱싱되지 않은 row가 있다면 인덱스가 NaN이 될 테니 dropna()로 제거합니다. \n",
    "temp_user_data = data['user_id'].map(user_to_idx.get).dropna()\n",
    "if len(temp_user_data) == len(data):   # 모든 row가 정상적으로 인덱싱되었다면\n",
    "    print('user_id column indexing OK!!')\n",
    "    data['user_id'] = temp_user_data   # data['user_id']을 인덱싱된 Series로 교체해 줍니다. \n",
    "else:\n",
    "    print('user_id column indexing Fail!!')\n",
    "\n",
    "# movie_to_idx을 통해 title 컬럼도 동일한 방식으로 인덱싱해 줍니다. \n",
    "temp_movie_data = data['title'].map(movie_to_idx.get).dropna()\n",
    "if len(temp_movie_data) == len(data):\n",
    "    print('movie column indexing OK!!')\n",
    "    data['title'] = temp_movie_data\n",
    "else:\n",
    "    print('title column indexing Fail!!')\n",
    "\n",
    "data"
   ]
  },
  {
   "cell_type": "markdown",
   "id": "74a2a1d1",
   "metadata": {},
   "source": [
    "### CSR matrix를 직접 만들어보기\n",
    "\n",
    "  - 추천 시스템의 다양한 모델들 중에 Matrix Factorization(MF, 행렬 분해)모델을 사용해서 진행하겠습니다."
   ]
  },
  {
   "cell_type": "code",
   "execution_count": 15,
   "id": "accded4f",
   "metadata": {},
   "outputs": [
    {
     "data": {
      "text/plain": [
       "<6040x3628 sparse matrix of type '<class 'numpy.int64'>'\n",
       "\twith 836483 stored elements in Compressed Sparse Row format>"
      ]
     },
     "execution_count": 15,
     "metadata": {},
     "output_type": "execute_result"
    }
   ],
   "source": [
    "# CSR matrix\n",
    "\n",
    "from scipy.sparse import csr_matrix\n",
    "\n",
    "num_user = data['user_id'].nunique()\n",
    "num_movie = data['title'].nunique()\n",
    "\n",
    "csr_data = csr_matrix((data.counts, (data.user_id, data.title)), shape= (num_user, num_movie))\n",
    "csr_data"
   ]
  },
  {
   "cell_type": "markdown",
   "id": "830877d3",
   "metadata": {},
   "source": [
    "### 모델 구현 및 학습 진행\n",
    "\n",
    "  - Matrix Factorization 모델을 implicit 패키지를 사용하여 학습을 진행합니다\n",
    "  - implicit 패키지는 이전 스텝에서 설명한 암묵적(implicit) dataset을 사용하는 다양한 모델을 굉장히 빠르게 학습할 수 있는 패키지입니다.\n",
    "  - 이 패키지에 구현된 als(AlternatingLeastSquares) 모델을 사용하겠습니다. "
   ]
  },
  {
   "cell_type": "code",
   "execution_count": 16,
   "id": "6a63234b",
   "metadata": {},
   "outputs": [],
   "source": [
    "from implicit.als import AlternatingLeastSquares\n",
    "import os\n",
    "import numpy as np\n",
    "\n",
    "# implicit 라이브러리에서 권장하고 있는 부분입니다. 학습 내용과는 무관합니다.\n",
    "os.environ['OPENBLAS_NUM_THREADS']='1'\n",
    "os.environ['KMP_DUPLICATE_LIB_OK']='True'\n",
    "os.environ['MKL_NUM_THREADS']='1'"
   ]
  },
  {
   "cell_type": "markdown",
   "id": "32c5b221",
   "metadata": {},
   "source": [
    "  - AlternatingLeastSquares 클래스의 __init__ 파라미터가 존재합니다.\n",
    "      - factors : 유저와 아이템의 벡터를 몇 차원으로 할 것인지\n",
    "      - regularization : 과적합을 방지하기 위해 정규화 값을 얼마나 사용할 것인지\n",
    "      - use_gpu : GPU를 사용할 것인지\n",
    "      - iterations : epochs와 같은 의미입니다. 데이터를 몇 번 반복해서 학습할 것인지\n",
    "  - factors와 iterations를 늘릴수록 과적합의 우려가 있기 때문에 조심해야 합니다."
   ]
  },
  {
   "cell_type": "code",
   "execution_count": 17,
   "id": "a9218c66",
   "metadata": {},
   "outputs": [],
   "source": [
    "# Implicit AlternatingLeastSquares 모델의 선언\n",
    "als_model = AlternatingLeastSquares(factors=100, regularization=0.01, use_gpu=False, iterations=15, dtype=np.float32)"
   ]
  },
  {
   "cell_type": "code",
   "execution_count": 18,
   "id": "9afad7f0",
   "metadata": {},
   "outputs": [
    {
     "data": {
      "text/plain": [
       "<3628x6040 sparse matrix of type '<class 'numpy.int64'>'\n",
       "\twith 836483 stored elements in Compressed Sparse Column format>"
      ]
     },
     "execution_count": 18,
     "metadata": {},
     "output_type": "execute_result"
    }
   ],
   "source": [
    "# als 모델은 input으로 (item X user 꼴의 matrix를 받기 때문에 Transpose해줍니다.)\n",
    "csr_data_transpose = csr_data.T\n",
    "csr_data_transpose"
   ]
  },
  {
   "cell_type": "code",
   "execution_count": 19,
   "id": "129c7b87",
   "metadata": {},
   "outputs": [
    {
     "data": {
      "application/vnd.jupyter.widget-view+json": {
       "model_id": "598e7824639b4556923b3b7de0ff7e97",
       "version_major": 2,
       "version_minor": 0
      },
      "text/plain": [
       "  0%|          | 0/15 [00:00<?, ?it/s]"
      ]
     },
     "metadata": {},
     "output_type": "display_data"
    }
   ],
   "source": [
    "# 모델 훈련\n",
    "als_model.fit(csr_data_transpose)"
   ]
  },
  {
   "cell_type": "code",
   "execution_count": 20,
   "id": "e3a6a070",
   "metadata": {},
   "outputs": [
    {
     "name": "stdout",
     "output_type": "stream",
     "text": [
      "please\n"
     ]
    }
   ],
   "source": [
    "# 훈련 확인 \n",
    "\n",
    "kris, matrix = user_to_idx['kris'], movie_to_idx['Matrix, The (1999)']\n",
    "kris_vector, matrix_vector = als_model.user_factors[kris], als_model.item_factors[matrix]\n",
    "\n",
    "print('please')"
   ]
  },
  {
   "cell_type": "code",
   "execution_count": 21,
   "id": "1e551354",
   "metadata": {
    "scrolled": true
   },
   "outputs": [
    {
     "data": {
      "text/plain": [
       "array([-0.05479205,  0.23537889, -0.5483686 , -0.37734148,  0.9789008 ,\n",
       "        1.0840018 ,  0.11328877,  0.28709066, -0.19557104,  0.7192768 ,\n",
       "        0.07358733, -0.27922535, -1.0104487 ,  0.35855988, -0.25181827,\n",
       "       -0.13321093, -0.67475605,  0.6936406 , -0.24680832, -0.30990538,\n",
       "       -0.42603132, -0.32529593,  0.98779476,  0.32893714,  0.94586205,\n",
       "       -0.3484653 , -0.15698677, -0.4007238 ,  1.3217214 ,  0.4185522 ,\n",
       "       -0.4067778 ,  1.6034167 , -1.385972  , -0.06352438, -1.000149  ,\n",
       "       -0.5253177 , -0.6675044 ,  0.6750362 ,  0.9621936 ,  0.21665949,\n",
       "        0.63990045, -0.7639567 ,  0.65553236, -0.655749  ,  0.75473636,\n",
       "        0.6315244 , -0.07952616, -0.21524827,  0.22085111, -0.8533679 ,\n",
       "        0.4671943 , -0.71469074,  0.37815195, -0.52259207, -0.07329006,\n",
       "        0.07054289,  0.27447683,  0.5069001 , -0.5330322 , -0.31244227,\n",
       "       -0.41046607,  0.45104566, -1.5480548 , -1.023893  , -0.89772785,\n",
       "       -0.7075105 ,  0.14002752,  1.0280579 , -0.40451416,  1.5461493 ,\n",
       "       -0.8815103 , -0.59051526,  0.8735048 ,  0.51150143,  0.27633485,\n",
       "        1.5668365 , -0.4157528 ,  1.3039397 , -0.4442025 , -0.66821736,\n",
       "        0.80720514, -0.5947601 ,  0.2874198 ,  0.33503067, -1.1787128 ,\n",
       "        0.6799293 , -0.2730483 , -0.9253188 ,  0.0148795 ,  0.11699004,\n",
       "        0.29501042,  0.91639686, -0.02133688,  0.00524526,  0.2123185 ,\n",
       "       -0.19700891,  0.5384265 , -0.97384346, -0.1704139 ,  0.9185772 ],\n",
       "      dtype=float32)"
      ]
     },
     "execution_count": 21,
     "metadata": {},
     "output_type": "execute_result"
    }
   ],
   "source": [
    "kris_vector"
   ]
  },
  {
   "cell_type": "code",
   "execution_count": 22,
   "id": "4ae6bd1e",
   "metadata": {},
   "outputs": [
    {
     "data": {
      "text/plain": [
       "array([ 4.19866480e-03,  1.61726251e-02,  4.20707371e-03, -1.18316999e-02,\n",
       "        4.00861576e-02,  3.35878953e-02,  2.90474342e-03,  9.73203778e-03,\n",
       "       -1.12765236e-02,  3.24625708e-02,  9.67152603e-03,  7.63198500e-03,\n",
       "       -4.10779333e-03, -9.62561090e-03, -4.63568699e-03,  1.45566054e-02,\n",
       "       -3.25974375e-02,  9.96205490e-03,  8.66447575e-03,  6.80869399e-03,\n",
       "       -6.97143609e-04,  1.50760310e-02,  7.95367546e-03, -8.28326811e-05,\n",
       "        2.20368654e-02, -9.74035531e-04, -1.04211196e-02, -2.14428455e-02,\n",
       "        4.77577634e-02,  2.13046428e-02, -1.53210908e-02,  1.60628594e-02,\n",
       "       -3.29885222e-02,  5.23861311e-03, -1.59650780e-02,  1.68105830e-02,\n",
       "       -2.51029003e-02, -1.05067994e-03,  4.51535126e-03,  1.45685871e-03,\n",
       "        3.59080620e-02,  5.92250936e-03,  1.90920681e-02, -3.39457707e-04,\n",
       "        1.43945608e-02,  1.40454844e-02,  1.87175833e-02,  3.52452276e-03,\n",
       "        1.97299141e-02, -1.43302074e-02,  1.55264763e-02, -9.87761002e-03,\n",
       "        1.40497619e-02,  3.50847142e-04, -5.55768982e-03, -5.52513916e-03,\n",
       "       -3.27565428e-03,  2.79069319e-02,  2.24207877e-03,  6.50451891e-03,\n",
       "        2.12414283e-03,  3.10151931e-02, -2.36156937e-02, -1.43046565e-02,\n",
       "       -1.01168873e-02,  1.06135150e-03,  1.81215047e-03,  1.81803256e-02,\n",
       "       -2.63505825e-03,  1.94829889e-02, -1.76310446e-02,  1.37125356e-02,\n",
       "        1.36657637e-02, -6.75972691e-03, -5.32863708e-03,  2.41569374e-02,\n",
       "       -2.25290488e-02,  1.67959332e-02, -1.04121061e-03, -1.60263777e-02,\n",
       "        2.20628530e-02,  1.06838846e-03,  1.99322961e-02,  1.50924055e-02,\n",
       "       -2.20602341e-02,  1.94280986e-02,  1.37407484e-03, -6.18792651e-03,\n",
       "        1.16924681e-02,  2.89194030e-03,  1.68189853e-02,  1.70870740e-02,\n",
       "       -2.19913060e-03,  1.19747547e-02,  2.57149599e-02,  1.58558432e-02,\n",
       "        1.56421643e-02, -1.63669903e-02,  1.89635251e-02,  4.92436290e-02],\n",
       "      dtype=float32)"
      ]
     },
     "execution_count": 22,
     "metadata": {},
     "output_type": "execute_result"
    }
   ],
   "source": [
    "matrix_vector"
   ]
  },
  {
   "cell_type": "code",
   "execution_count": 23,
   "id": "67e70b96",
   "metadata": {},
   "outputs": [
    {
     "data": {
      "text/plain": [
       "0.8198568"
      ]
     },
     "execution_count": 23,
     "metadata": {},
     "output_type": "execute_result"
    }
   ],
   "source": [
    "# kris과 matrix를 내적하는 코드\n",
    "\n",
    "np.dot(kris_vector, matrix_vector)"
   ]
  },
  {
   "cell_type": "code",
   "execution_count": 24,
   "id": "26b22394",
   "metadata": {},
   "outputs": [
    {
     "data": {
      "text/plain": [
       "0.40752292"
      ]
     },
     "execution_count": 24,
     "metadata": {},
     "output_type": "execute_result"
    }
   ],
   "source": [
    "lady = movie_to_idx['My Fair Lady (1964)']\n",
    "lady_vector = als_model.item_factors[lady]\n",
    "np.dot(kris_vector, lady_vector)"
   ]
  },
  {
   "cell_type": "markdown",
   "id": "906e8c07",
   "metadata": {},
   "source": [
    "### 선호도 파악 및 추천받기"
   ]
  },
  {
   "cell_type": "code",
   "execution_count": 28,
   "id": "191eb353",
   "metadata": {},
   "outputs": [
    {
     "data": {
      "text/plain": [
       "[(124, 1.0000001),\n",
       " (92, 0.7745636),\n",
       " (62, 0.6678946),\n",
       " (141, 0.58436203),\n",
       " (200, 0.5777335),\n",
       " (145, 0.547041),\n",
       " (375, 0.53389776),\n",
       " (107, 0.522296),\n",
       " (317, 0.4971979),\n",
       " (175, 0.49576378),\n",
       " (44, 0.42375693),\n",
       " (75, 0.4159806),\n",
       " (236, 0.40229744),\n",
       " (117, 0.38552),\n",
       " (431, 0.38356978)]"
      ]
     },
     "execution_count": 28,
     "metadata": {},
     "output_type": "execute_result"
    }
   ],
   "source": [
    "# 비슷한 영화 찾아보기\n",
    "\n",
    "favorite_movie = 'Matrix, The (1999)'\n",
    "title = movie_to_idx[favorite_movie]\n",
    "similar_movie = als_model.similar_items(title, N=15)\n",
    "similar_movie"
   ]
  },
  {
   "cell_type": "code",
   "execution_count": 29,
   "id": "118ff909",
   "metadata": {},
   "outputs": [
    {
     "data": {
      "text/plain": [
       "['Matrix, The (1999)',\n",
       " 'Terminator 2: Judgment Day (1991)',\n",
       " 'Total Recall (1990)',\n",
       " 'Fugitive, The (1993)',\n",
       " 'Terminator, The (1984)',\n",
       " 'Fifth Element, The (1997)',\n",
       " 'Face/Off (1997)',\n",
       " 'Jurassic Park (1993)',\n",
       " 'Twelve Monkeys (1995)',\n",
       " 'Men in Black (1997)',\n",
       " 'Star Wars: Episode IV - A New Hope (1977)',\n",
       " 'Hunt for Red October, The (1990)',\n",
       " 'Speed (1994)',\n",
       " 'Star Wars: Episode V - The Empire Strikes Back (1980)',\n",
       " 'Gattaca (1997)']"
      ]
     },
     "execution_count": 29,
     "metadata": {},
     "output_type": "execute_result"
    }
   ],
   "source": [
    "#movie_to_idx 를 뒤집어, index로부터 movie 이름을 얻는 dict를 생성합니다. \n",
    "idx_to_movie = {v:k for k,v in movie_to_idx.items()}\n",
    "[idx_to_movie[i[0]] for i in similar_movie]"
   ]
  },
  {
   "cell_type": "code",
   "execution_count": 30,
   "id": "aed44250",
   "metadata": {},
   "outputs": [
    {
     "name": "stdout",
     "output_type": "stream",
     "text": [
      "please\n"
     ]
    }
   ],
   "source": [
    "def get_similar_movie(movie_name: str):\n",
    "    title = movie_to_idx[movie_name]\n",
    "    similar_movie = als_model.similar_items(title)\n",
    "    similar_movie = [idx_to_movie[i[0]] for i in similar_movie]\n",
    "    return similar_movie\n",
    "\n",
    "print(\"please\")"
   ]
  },
  {
   "cell_type": "code",
   "execution_count": 31,
   "id": "51b28c3b",
   "metadata": {},
   "outputs": [
    {
     "data": {
      "text/plain": [
       "['Star Wars: Episode IV - A New Hope (1977)',\n",
       " 'Star Wars: Episode V - The Empire Strikes Back (1980)',\n",
       " 'Raiders of the Lost Ark (1981)',\n",
       " 'Star Wars: Episode VI - Return of the Jedi (1983)',\n",
       " 'Alien (1979)',\n",
       " 'Terminator, The (1984)',\n",
       " 'Star Wars: Episode I - The Phantom Menace (1999)',\n",
       " 'Back to the Future (1985)',\n",
       " 'Matrix, The (1999)',\n",
       " 'Indiana Jones and the Last Crusade (1989)']"
      ]
     },
     "execution_count": 31,
     "metadata": {},
     "output_type": "execute_result"
    }
   ],
   "source": [
    "get_similar_movie('Star Wars: Episode IV - A New Hope (1977)')"
   ]
  },
  {
   "cell_type": "code",
   "execution_count": 34,
   "id": "eed9ce75",
   "metadata": {},
   "outputs": [
    {
     "data": {
      "text/plain": [
       "['My Fair Lady (1964)',\n",
       " 'West Side Story (1961)',\n",
       " 'King and I, The (1956)',\n",
       " \"Singin' in the Rain (1952)\",\n",
       " 'Sound of Music, The (1965)',\n",
       " 'Oliver! (1968)',\n",
       " 'Romeo and Juliet (1968)',\n",
       " 'American in Paris, An (1951)',\n",
       " 'Gigi (1958)',\n",
       " 'South Pacific (1958)']"
      ]
     },
     "execution_count": 34,
     "metadata": {},
     "output_type": "execute_result"
    }
   ],
   "source": [
    "get_similar_movie('My Fair Lady (1964)')"
   ]
  },
  {
   "cell_type": "code",
   "execution_count": 35,
   "id": "c4fa4285",
   "metadata": {},
   "outputs": [
    {
     "data": {
      "text/plain": [
       "[(107, 0.7077596),\n",
       " (62, 0.6415631),\n",
       " (14, 0.4172082),\n",
       " (44, 0.41572383),\n",
       " (64, 0.39925277),\n",
       " (141, 0.38189775),\n",
       " (117, 0.36881295),\n",
       " (375, 0.35645604),\n",
       " (145, 0.35295844),\n",
       " (193, 0.34288883),\n",
       " (354, 0.33665812),\n",
       " (651, 0.33255872),\n",
       " (5, 0.3168584),\n",
       " (685, 0.29762685),\n",
       " (194, 0.29016456),\n",
       " (663, 0.28087682),\n",
       " (882, 0.2751035),\n",
       " (236, 0.26864627),\n",
       " (680, 0.26201832),\n",
       " (87, 0.2613421)]"
      ]
     },
     "execution_count": 35,
     "metadata": {},
     "output_type": "execute_result"
    }
   ],
   "source": [
    "# 영화 추천하기\n",
    "\n",
    "user = user_to_idx['kris']\n",
    "# recommend에서는 user*item CSR Matrix를 받습니다.\n",
    "movie_recommended = als_model.recommend(user, csr_data, N=20, filter_already_liked_items=True)\n",
    "movie_recommended"
   ]
  },
  {
   "cell_type": "code",
   "execution_count": 38,
   "id": "45a32c18",
   "metadata": {},
   "outputs": [
    {
     "data": {
      "text/plain": [
       "['Jurassic Park (1993)',\n",
       " 'Total Recall (1990)',\n",
       " 'Sound of Music, The (1965)',\n",
       " 'Star Wars: Episode IV - A New Hope (1977)',\n",
       " 'Star Wars: Episode VI - Return of the Jedi (1983)',\n",
       " 'Fugitive, The (1993)',\n",
       " 'Star Wars: Episode V - The Empire Strikes Back (1980)',\n",
       " 'Face/Off (1997)',\n",
       " 'Fifth Element, The (1997)',\n",
       " 'Alien (1979)',\n",
       " 'West Side Story (1961)',\n",
       " 'Aliens (1986)',\n",
       " 'Princess Bride, The (1987)',\n",
       " 'Planet of the Apes (1968)',\n",
       " 'Die Hard (1988)',\n",
       " \"Singin' in the Rain (1952)\",\n",
       " 'Mad Max 2 (a.k.a. The Road Warrior) (1981)',\n",
       " 'Speed (1994)',\n",
       " 'Blade Runner (1982)',\n",
       " 'Braveheart (1995)']"
      ]
     },
     "execution_count": 38,
     "metadata": {},
     "output_type": "execute_result"
    }
   ],
   "source": [
    "[idx_to_movie[i[0]] for i in movie_recommended]"
   ]
  },
  {
   "cell_type": "code",
   "execution_count": 41,
   "id": "729ea778",
   "metadata": {},
   "outputs": [],
   "source": [
    "# explain 매서드를 이용한 기여도 확인\n",
    "\n",
    "Total_Recall = movie_to_idx['Total Recall (1990)']\n",
    "explain = als_model.explain(user, csr_data, itemid=Total_Recall)"
   ]
  },
  {
   "cell_type": "code",
   "execution_count": 42,
   "id": "24c707c3",
   "metadata": {},
   "outputs": [
    {
     "data": {
      "text/plain": [
       "[('Terminator 2: Judgment Day (1991)', 0.19678885746187996),\n",
       " ('Men in Black (1997)', 0.17347186117403587),\n",
       " ('Matrix, The (1999)', 0.1476075198223057),\n",
       " ('Terminator, The (1984)', 0.11309621228673741),\n",
       " ('My Fair Lady (1964)', -0.0024930469373746406)]"
      ]
     },
     "execution_count": 42,
     "metadata": {},
     "output_type": "execute_result"
    }
   ],
   "source": [
    "[(idx_to_movie[i[0]], i[1]) for i in explain[1]]"
   ]
  },
  {
   "cell_type": "markdown",
   "id": "80ccc71a",
   "metadata": {},
   "source": [
    "## 회고\n",
    "\n",
    "  - 첫번째로 여태까지 NLP 관련 노드들은 어렵기만하고 재미가 없었는데 이번 추천하는 모델을 만드는 노드는 생각보다 재미있었다.\n",
    "  - 그럴만한 이유가 이번 데이터셋은 내가 따로 전처리를 많이 할 필요 없이 깔끔하게 가공된 데이터를 제공해주었기 때문인 것 같다.\n",
    "  - 시작할때 연습 노드의 파일은 이미 데이터 프레임이 하나로 되어 있었지만 우리가 진행하려는 데이터셋은 프레임이 나뉘어져있어서 그것을 합치는데 이것저것 찾아보느라고 시간이 꽤 걸렸다.\n",
    "  - 최근 fundamental node에서도 추천 관련 내용들이 나오고 그것들을 한번 본 이후에 이번 노드를 진행해서 주제가 크게 어렵게 느껴지지는 않았던 것 같다.\n",
    "  - 하지만 아직까지도 데이터 전처리부분은 너무 어려운 부분으로 다가온다.\n",
    "  - 어떤 부분들을 처리해줘야 하는지, 실제로 모델에 넣어서 사용하기 위해서는 어떤 칼럼들이 중요하고 어떤 칼럼들은 필요가 없는지 등등의 전처리 과정들이 아직도 생각보다 어렵다.\n",
    "  - 그리고 사용하는 모델이 어떻게 구현되고 어떤 방식을 통해서 작업이 이루어지는지 자세한 모델 구현 과정까지는 이해하지 못했다.\n",
    "  - 이번 노드에서는 이런 영화 추천 및 여러가지 추천에 있어서 이런 모델을 사용하면 되겠다라는 정도의 지식을 얻은 것 같다."
   ]
  },
  {
   "cell_type": "markdown",
   "id": "de1420cd",
   "metadata": {},
   "source": [
    "  - 만든 모델에 있어서도 모델이 생각보다 좋은 성능을 보인 것 같다.\n",
    "  - 성능이 좋지 않으면 하이퍼 파라미터(factors, iterations)에 변화를 줘서 추가 훈련을 진행하고 결과를 받아보려 했지만 처음부터 괜찮은 성능이 나와준것 같다.\n",
    "  - 정확한 수치적인 통계는 잘 모르겠는데 처음 입력했던 선호 영화들과 비교했을때 비교적 비슷한 느낌의 영화들이 추천된 것을 확인할 수 있었다."
   ]
  },
  {
   "cell_type": "markdown",
   "id": "168ebbe3",
   "metadata": {},
   "source": [
    "  - 추후에 복습을 진행할 때 영화 데이터셋 말고도 구할 수 있는 다른 데이터셋을 가져다가 전처리 및 모델 구성을 추가적으로 해봐야 할 것 같다."
   ]
  }
 ],
 "metadata": {
  "kernelspec": {
   "display_name": "Python 3 (ipykernel)",
   "language": "python",
   "name": "python3"
  },
  "language_info": {
   "codemirror_mode": {
    "name": "ipython",
    "version": 3
   },
   "file_extension": ".py",
   "mimetype": "text/x-python",
   "name": "python",
   "nbconvert_exporter": "python",
   "pygments_lexer": "ipython3",
   "version": "3.9.7"
  }
 },
 "nbformat": 4,
 "nbformat_minor": 5
}
