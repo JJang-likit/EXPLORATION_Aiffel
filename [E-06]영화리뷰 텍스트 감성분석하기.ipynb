{
 "cells": [
  {
   "cell_type": "markdown",
   "id": "419d9cd6",
   "metadata": {},
   "source": [
    "# [E-06] 네이버 영화리뷰 감성분석 도전하기\n",
    "\n",
    "### 프로젝트 순서\n",
    "  - 데이터 준비와 확인\n",
    "  - 데이터로더 구성\n",
    "  - 모델 구성을 위한 데이터 전처리\n",
    "  - 모델 구성을 위한 validation set 구성\n",
    "  - 모델 훈련 및 성능 평가\n",
    "  - Word2Vec 적용\n",
    "  - 회고"
   ]
  },
  {
   "cell_type": "markdown",
   "id": "eecbf4bf",
   "metadata": {},
   "source": [
    "### Step 1. 데이터 준비와 확인\n",
    "  - 프로젝트에 사용할 라이브러리 및 데이터를 불러와서 확인한다."
   ]
  },
  {
   "cell_type": "code",
   "execution_count": 1,
   "id": "707acc8b",
   "metadata": {},
   "outputs": [],
   "source": [
    "import tensorflow as tf\n",
    "import pandas as pd\n",
    "import urllib.request\n",
    "%matplotlib inline\n",
    "import matplotlib.pyplot as plt\n",
    "import re\n",
    "from konlpy.tag import Okt\n",
    "from tensorflow import keras\n",
    "from tensorflow.keras.preprocessing.text import Tokenizer\n",
    "import numpy as np\n",
    "from tensorflow.keras.preprocessing.sequence import pad_sequences\n",
    "from collections import Counter"
   ]
  },
  {
   "cell_type": "code",
   "execution_count": 2,
   "id": "5f62dc0e",
   "metadata": {},
   "outputs": [
    {
     "data": {
      "text/html": [
       "<div>\n",
       "<style scoped>\n",
       "    .dataframe tbody tr th:only-of-type {\n",
       "        vertical-align: middle;\n",
       "    }\n",
       "\n",
       "    .dataframe tbody tr th {\n",
       "        vertical-align: top;\n",
       "    }\n",
       "\n",
       "    .dataframe thead th {\n",
       "        text-align: right;\n",
       "    }\n",
       "</style>\n",
       "<table border=\"1\" class=\"dataframe\">\n",
       "  <thead>\n",
       "    <tr style=\"text-align: right;\">\n",
       "      <th></th>\n",
       "      <th>id</th>\n",
       "      <th>document</th>\n",
       "      <th>label</th>\n",
       "    </tr>\n",
       "  </thead>\n",
       "  <tbody>\n",
       "    <tr>\n",
       "      <th>0</th>\n",
       "      <td>9976970</td>\n",
       "      <td>아 더빙.. 진짜 짜증나네요 목소리</td>\n",
       "      <td>0</td>\n",
       "    </tr>\n",
       "    <tr>\n",
       "      <th>1</th>\n",
       "      <td>3819312</td>\n",
       "      <td>흠...포스터보고 초딩영화줄....오버연기조차 가볍지 않구나</td>\n",
       "      <td>1</td>\n",
       "    </tr>\n",
       "    <tr>\n",
       "      <th>2</th>\n",
       "      <td>10265843</td>\n",
       "      <td>너무재밓었다그래서보는것을추천한다</td>\n",
       "      <td>0</td>\n",
       "    </tr>\n",
       "    <tr>\n",
       "      <th>3</th>\n",
       "      <td>9045019</td>\n",
       "      <td>교도소 이야기구먼 ..솔직히 재미는 없다..평점 조정</td>\n",
       "      <td>0</td>\n",
       "    </tr>\n",
       "    <tr>\n",
       "      <th>4</th>\n",
       "      <td>6483659</td>\n",
       "      <td>사이몬페그의 익살스런 연기가 돋보였던 영화!스파이더맨에서 늙어보이기만 했던 커스틴 ...</td>\n",
       "      <td>1</td>\n",
       "    </tr>\n",
       "  </tbody>\n",
       "</table>\n",
       "</div>"
      ],
      "text/plain": [
       "         id                                           document  label\n",
       "0   9976970                                아 더빙.. 진짜 짜증나네요 목소리      0\n",
       "1   3819312                  흠...포스터보고 초딩영화줄....오버연기조차 가볍지 않구나      1\n",
       "2  10265843                                  너무재밓었다그래서보는것을추천한다      0\n",
       "3   9045019                      교도소 이야기구먼 ..솔직히 재미는 없다..평점 조정      0\n",
       "4   6483659  사이몬페그의 익살스런 연기가 돋보였던 영화!스파이더맨에서 늙어보이기만 했던 커스틴 ...      1"
      ]
     },
     "execution_count": 2,
     "metadata": {},
     "output_type": "execute_result"
    }
   ],
   "source": [
    "import pandas as pd\n",
    "\n",
    "# 데이터를 읽어봅시다. \n",
    "train_data = pd.read_table('~/aiffel/sentiment_classification/data/ratings_train.txt')\n",
    "test_data = pd.read_table('~/aiffel/sentiment_classification/data/ratings_test.txt')\n",
    "\n",
    "train_data.head()"
   ]
  },
  {
   "cell_type": "markdown",
   "id": "d41b7f0e",
   "metadata": {},
   "source": [
    "### Step 2. 데이터로더 구성\n",
    "\n",
    "  - 데이터로더 구성에서는 데이터의 중복 제거, 토큰화 작업, 불용어 제거, 사전 word_to_index 구성 등의 작업이 이루어진다."
   ]
  },
  {
   "cell_type": "code",
   "execution_count": 3,
   "id": "eaf6a4f5",
   "metadata": {},
   "outputs": [],
   "source": [
    "from konlpy.tag import Mecab\n",
    "tokenizer = Mecab()\n",
    "stopwords = ['의','가','이','은','들','는','좀','잘','걍','과','도','를','으로','자','에','와','한','하다']\n",
    "num_words = 10000\n",
    "\n",
    "def load_data(train_data, test_data, num_words=num_words):\n",
    "    # 데이터 중복 제거\n",
    "    train_data.drop_duplicates(subset=['document'], inplace=True)\n",
    "    train_data = train_data.dropna(how = 'any') \n",
    "    test_data.drop_duplicates(subset=['document'], inplace=True)\n",
    "    test_data = test_data.dropna(how = 'any') \n",
    "\n",
    "    # 토큰화 및 불용어 제거\n",
    "    X_train = []\n",
    "    for sentence in train_data['document']:\n",
    "        temp_X = tokenizer.morphs(sentence) # 토큰화\n",
    "        temp_X = [word for word in temp_X if not word in stopwords] # 불용어 제거\n",
    "        X_train.append(temp_X)\n",
    "\n",
    "    X_test = []\n",
    "    for sentence in test_data['document']:\n",
    "        temp_X = tokenizer.morphs(sentence) # 토큰화\n",
    "        temp_X = [word for word in temp_X if not word in stopwords] # 불용어 제거\n",
    "        X_test.append(temp_X)\n",
    "\n",
    "    # 사전 word_to_index 구성\n",
    "    words = np.concatenate(X_train).tolist()\n",
    "    counter = Counter(words)\n",
    "    counter = counter.most_common(10000-4)\n",
    "    vocab = ['', '', '', ''] + [key for key, _ in counter]\n",
    "    word_to_index = {word:index for index, word in enumerate(vocab)}\n",
    "\n",
    "    # 텍스트 스트링을 사전 인덱스 스트링으로 변환\n",
    "    def wordlist_to_indexlist(wordlist):\n",
    "        return [word_to_index[word] if word in word_to_index else word_to_index[''] for word in wordlist]\n",
    "    \n",
    "    # X_train, y_train, X_test, y_test, word_to_index 리턴\n",
    "    X_train = list(map(wordlist_to_indexlist, X_train))\n",
    "    X_test = list(map(wordlist_to_indexlist, X_test))\n",
    "\n",
    "    return X_train, np.array(list(train_data['label'])), X_test, np.array(list(test_data['label'])), word_to_index"
   ]
  },
  {
   "cell_type": "code",
   "execution_count": 4,
   "id": "6a67c04c",
   "metadata": {},
   "outputs": [
    {
     "name": "stdout",
     "output_type": "stream",
     "text": [
      "훈련 샘플 개수: 146182, 테스트 개수: 49157\n"
     ]
    }
   ],
   "source": [
    "# 데이터 확인\n",
    "\n",
    "X_train, y_train, X_test, y_test, word_to_index = load_data(train_data, test_data)\n",
    "print(\"훈련 샘플 개수: {}, 테스트 개수: {}\".format(len(X_train), len(X_test)))"
   ]
  },
  {
   "cell_type": "code",
   "execution_count": 5,
   "id": "cdf8a73f",
   "metadata": {},
   "outputs": [
    {
     "name": "stdout",
     "output_type": "stream",
     "text": [
      "[32, 74, 919, 4, 4, 39, 228, 20, 33, 748]\n",
      "라벨:  0\n",
      "1번째 리뷰 문장 길이:  10\n",
      "2번째 리뷰 문장 길이:  17\n"
     ]
    }
   ],
   "source": [
    "print(X_train[0])\n",
    "print('라벨: ', y_train[0])  # 1번째 리뷰데이터의 라벨\n",
    "print('1번째 리뷰 문장 길이: ', len(X_train[0]))\n",
    "print('2번째 리뷰 문장 길이: ', len(X_train[1]))"
   ]
  },
  {
   "cell_type": "code",
   "execution_count": 6,
   "id": "a46d25d2",
   "metadata": {},
   "outputs": [
    {
     "name": "stdout",
     "output_type": "stream",
     "text": [
      "9997\n",
      "103\n"
     ]
    }
   ],
   "source": [
    "# word_to_index 확인\n",
    "\n",
    "print(len(word_to_index))\n",
    "print(word_to_index['사랑'])"
   ]
  },
  {
   "cell_type": "code",
   "execution_count": 7,
   "id": "a8742b20",
   "metadata": {},
   "outputs": [],
   "source": [
    "word_to_index[\"<PAD>\"] = 0  # 패딩\n",
    "word_to_index[\"<BOS>\"] = 1  # 모든 문장의 시작\n",
    "word_to_index[\"<UNK>\"] = 2  # Unknown을 의미"
   ]
  },
  {
   "cell_type": "code",
   "execution_count": 8,
   "id": "421c34be",
   "metadata": {},
   "outputs": [
    {
     "name": "stdout",
     "output_type": "stream",
     "text": [
      "<PAD>\n"
     ]
    }
   ],
   "source": [
    "# index_to_word 구성\n",
    "\n",
    "index_to_word = {index:word for word, index in word_to_index.items()}\n",
    "print(index_to_word[0])"
   ]
  },
  {
   "cell_type": "code",
   "execution_count": 9,
   "id": "bfede9f7",
   "metadata": {},
   "outputs": [],
   "source": [
    "# 인코딩, 디코딩 함수 만들기\n",
    "\n",
    "# 문장 1개를 활용할 딕셔너리와 함께 주면, 단어 인덱스 리스트 벡터로 변환해 주는 함수입니다. \n",
    "# 단, 모든 문장은 <BOS>로 시작하는 것으로 합니다. \n",
    "def get_encoded_sentence(sentence, word_to_index):\n",
    "    return [word_to_index['<BOS>']]+[word_to_index[word] if word in word_to_index else word_to_index['<UNK>'] for word in sentence.split()]\n",
    "\n",
    "# 여러 개의 문장 리스트를 한꺼번에 단어 인덱스 리스트 벡터로 encode해 주는 함수입니다. \n",
    "def get_encoded_sentences(sentences, word_to_index):\n",
    "    return [get_encoded_sentence(sentence, word_to_index) for sentence in sentences]\n",
    "\n",
    "# 숫자 벡터로 encode된 문장을 원래대로 decode하는 함수입니다. \n",
    "def get_decoded_sentence(encoded_sentence, index_to_word):\n",
    "    return ' '.join(index_to_word[index] if index in index_to_word else '<UNK>' for index in encoded_sentence[1:])  #[1:]를 통해 <BOS>를 제외\n",
    "\n",
    "# 여러 개의 숫자 벡터로 encode된 문장을 한꺼번에 원래대로 decode하는 함수입니다. \n",
    "def get_decoded_sentences(encoded_sentences, index_to_word):\n",
    "    return [get_decoded_sentence(encoded_sentence, index_to_word) for encoded_sentence in encoded_sentences]"
   ]
  },
  {
   "cell_type": "code",
   "execution_count": 10,
   "id": "719e43e8",
   "metadata": {},
   "outputs": [
    {
     "name": "stdout",
     "output_type": "stream",
     "text": [
      "더 빙 . . 진짜 짜증 나 네요 목소리\n",
      "라벨:  0\n"
     ]
    }
   ],
   "source": [
    "# 디코딩 확인\n",
    "\n",
    "print(get_decoded_sentence(X_train[0], index_to_word))\n",
    "print('라벨: ', y_train[0])  # 1번째 리뷰데이터의 라벨"
   ]
  },
  {
   "cell_type": "markdown",
   "id": "b6512cbf",
   "metadata": {},
   "source": [
    "### Step 3. 모델 구성을 위한 데이터 전처리\n",
    "\n",
    "  - pad_sequences를 통해 데이터셋 상의 문장 길이를 통일해줘야 한다.\n",
    "  - 문장 최대 길이 maxlen의 값 설정도 전체 모델 성능에 영향을 미친다.\n",
    "  - 그렇기 때문에 적절한 값을 찾기 위한 데이터셋의 분포를 확인해봐야 한다."
   ]
  },
  {
   "cell_type": "code",
   "execution_count": 11,
   "id": "ab3bc61f",
   "metadata": {},
   "outputs": [
    {
     "name": "stdout",
     "output_type": "stream",
     "text": [
      "문장길이 평균 :  15.96940191154864\n",
      "문장길이 최대 :  116\n",
      "문장길이 표준편차 :  12.843571191092\n"
     ]
    }
   ],
   "source": [
    "# 데이터셋 길이 분포 확인\n",
    "\n",
    "total_data_text = list(X_train) + list(X_test)\n",
    "# 텍스트데이터 문장길이의 리스트를 생성한 후\n",
    "\n",
    "num_tokens = [len(tokens) for tokens in total_data_text]\n",
    "num_tokens = np.array(num_tokens)\n",
    "# 문장길이의 평균값, 최대값, 표준편차를 계산해 본다. \n",
    "print('문장길이 평균 : ', np.mean(num_tokens))\n",
    "print('문장길이 최대 : ', np.max(num_tokens))\n",
    "print('문장길이 표준편차 : ', np.std(num_tokens))"
   ]
  },
  {
   "cell_type": "code",
   "execution_count": 12,
   "id": "8168373d",
   "metadata": {},
   "outputs": [
    {
     "name": "stdout",
     "output_type": "stream",
     "text": [
      "pad_sequences maxlen :  41\n",
      "전체 문장의 0.9342988343341575%가 maxlen 설정값 이내에 포함됩니다. \n"
     ]
    }
   ],
   "source": [
    "# 예를들어, 최대 길이를 (평균 + 2*표준편차)로 한다면,  \n",
    "max_tokens = np.mean(num_tokens) + 2 * np.std(num_tokens)\n",
    "maxlen = int(max_tokens)\n",
    "print('pad_sequences maxlen : ', maxlen)\n",
    "print('전체 문장의 {}%가 maxlen 설정값 이내에 포함됩니다. '.format(np.sum(num_tokens < max_tokens) / len(num_tokens)))"
   ]
  },
  {
   "cell_type": "code",
   "execution_count": 13,
   "id": "9020d033",
   "metadata": {},
   "outputs": [
    {
     "name": "stdout",
     "output_type": "stream",
     "text": [
      "(146182, 41)\n",
      "(49157, 41)\n"
     ]
    }
   ],
   "source": [
    "x_train = pad_sequences(X_train,\n",
    "                        value=word_to_index[\"<PAD>\"],\n",
    "                        padding='pre', # 혹은 'post'\n",
    "                        maxlen=maxlen)\n",
    "\n",
    "x_test = pad_sequences(X_test,\n",
    "                       value=word_to_index[\"<PAD>\"],\n",
    "                       padding='pre', # 혹은 'post'\n",
    "                       maxlen=maxlen)\n",
    "\n",
    "print(x_train.shape)\n",
    "print(x_test.shape)"
   ]
  },
  {
   "cell_type": "markdown",
   "id": "b9797298",
   "metadata": {},
   "source": [
    "### Step 4. validation set 구성\n",
    "\n",
    "  - 노드에서는 25000건 중 10000건을 분리하여 검증셋을 만들었지만 여기서는 데이터가 더 많기 때문에 20000건을 분리하여 검증셋을 만들어본다."
   ]
  },
  {
   "cell_type": "code",
   "execution_count": 14,
   "id": "d2dfd746",
   "metadata": {},
   "outputs": [
    {
     "name": "stdout",
     "output_type": "stream",
     "text": [
      "(126182, 41)\n",
      "(126182,)\n"
     ]
    }
   ],
   "source": [
    "# validation set 20000건 분리\n",
    "x_val = x_train[:20000]   \n",
    "y_val = y_train[:20000]\n",
    "\n",
    "\n",
    "partial_x_train = x_train[20000:]  \n",
    "partial_y_train = y_train[20000:]\n",
    "\n",
    "print(partial_x_train.shape)\n",
    "print(partial_y_train.shape)"
   ]
  },
  {
   "cell_type": "markdown",
   "id": "9f62952f",
   "metadata": {},
   "source": [
    "### Step 5. 모델 훈련 및 성능 평가"
   ]
  },
  {
   "cell_type": "code",
   "execution_count": 15,
   "id": "4b6b7416",
   "metadata": {
    "scrolled": true
   },
   "outputs": [
    {
     "name": "stdout",
     "output_type": "stream",
     "text": [
      "Model: \"sequential\"\n",
      "_________________________________________________________________\n",
      "Layer (type)                 Output Shape              Param #   \n",
      "=================================================================\n",
      "embedding (Embedding)        (None, None, 16)          160000    \n",
      "_________________________________________________________________\n",
      "lstm (LSTM)                  (None, 8)                 800       \n",
      "_________________________________________________________________\n",
      "dense (Dense)                (None, 8)                 72        \n",
      "_________________________________________________________________\n",
      "dense_1 (Dense)              (None, 1)                 9         \n",
      "=================================================================\n",
      "Total params: 160,881\n",
      "Trainable params: 160,881\n",
      "Non-trainable params: 0\n",
      "_________________________________________________________________\n"
     ]
    }
   ],
   "source": [
    "# RNN 모델 설계\n",
    "\n",
    "vocab_size = 10000    # 어휘 사전의 크기입니다(10,000개의 단어)\n",
    "word_vector_dim = 16  # 워드 벡터의 차원 수 (변경 가능한 하이퍼파라미터)\n",
    "\n",
    "model = keras.Sequential()\n",
    "model.add(keras.layers.Embedding(vocab_size, word_vector_dim, input_shape=(None,)))\n",
    "model.add(keras.layers.LSTM(8))   # 가장 널리 쓰이는 RNN인 LSTM 레이어를 사용하였습니다. 이때 LSTM state 벡터의 차원수는 8로 하였습니다. (변경 가능)\n",
    "model.add(keras.layers.Dense(8, activation='relu'))\n",
    "model.add(keras.layers.Dense(1, activation='sigmoid'))  # 최종 출력은 긍정/부정을 나타내는 1dim 입니다.\n",
    "\n",
    "model.summary()"
   ]
  },
  {
   "cell_type": "code",
   "execution_count": 16,
   "id": "61643349",
   "metadata": {},
   "outputs": [
    {
     "name": "stdout",
     "output_type": "stream",
     "text": [
      "Epoch 1/10\n",
      "247/247 [==============================] - 5s 7ms/step - loss: 0.5234 - accuracy: 0.7629 - val_loss: 0.3757 - val_accuracy: 0.8415\n",
      "Epoch 2/10\n",
      "247/247 [==============================] - 1s 5ms/step - loss: 0.3459 - accuracy: 0.8547 - val_loss: 0.3479 - val_accuracy: 0.8521\n",
      "Epoch 3/10\n",
      "247/247 [==============================] - 1s 5ms/step - loss: 0.3205 - accuracy: 0.8673 - val_loss: 0.3491 - val_accuracy: 0.8486\n",
      "Epoch 4/10\n",
      "247/247 [==============================] - 1s 6ms/step - loss: 0.3085 - accuracy: 0.8723 - val_loss: 0.3462 - val_accuracy: 0.8541\n",
      "Epoch 5/10\n",
      "247/247 [==============================] - 1s 6ms/step - loss: 0.2979 - accuracy: 0.8774 - val_loss: 0.3460 - val_accuracy: 0.8532\n",
      "Epoch 6/10\n",
      "247/247 [==============================] - 1s 5ms/step - loss: 0.2892 - accuracy: 0.8807 - val_loss: 0.3484 - val_accuracy: 0.8519\n",
      "Epoch 7/10\n",
      "247/247 [==============================] - 1s 5ms/step - loss: 0.2805 - accuracy: 0.8858 - val_loss: 0.3503 - val_accuracy: 0.8535\n",
      "Epoch 8/10\n",
      "247/247 [==============================] - 1s 6ms/step - loss: 0.2715 - accuracy: 0.8904 - val_loss: 0.3518 - val_accuracy: 0.8529\n",
      "Epoch 9/10\n",
      "247/247 [==============================] - 1s 6ms/step - loss: 0.2609 - accuracy: 0.8951 - val_loss: 0.3545 - val_accuracy: 0.8548\n",
      "Epoch 10/10\n",
      "247/247 [==============================] - 1s 6ms/step - loss: 0.2512 - accuracy: 0.9002 - val_loss: 0.3554 - val_accuracy: 0.8558\n"
     ]
    }
   ],
   "source": [
    "# RNN 모델 훈련\n",
    "\n",
    "model.compile(optimizer='adam',\n",
    "              loss='binary_crossentropy',\n",
    "              metrics=['accuracy'])\n",
    "              \n",
    "epochs=10  # 몇 epoch를 훈련하면 좋을지 결과를 보면서 바꾸어 봅시다. \n",
    "\n",
    "history = model.fit(partial_x_train,\n",
    "                    partial_y_train,\n",
    "                    epochs=epochs,\n",
    "                    batch_size=512,\n",
    "                    validation_data=(x_val, y_val),\n",
    "                    verbose=1)"
   ]
  },
  {
   "cell_type": "code",
   "execution_count": 17,
   "id": "a752e959",
   "metadata": {},
   "outputs": [
    {
     "name": "stdout",
     "output_type": "stream",
     "text": [
      "1537/1537 - 3s - loss: 0.3631 - accuracy: 0.8492\n",
      "[0.3630879819393158, 0.8491974472999573]\n"
     ]
    }
   ],
   "source": [
    "# 학습이 끝난 모델로 성능 평가\n",
    "\n",
    "results = model.evaluate(x_test,  y_test, verbose=2)\n",
    "print(results)"
   ]
  },
  {
   "cell_type": "code",
   "execution_count": 18,
   "id": "d9df8749",
   "metadata": {},
   "outputs": [
    {
     "name": "stdout",
     "output_type": "stream",
     "text": [
      "dict_keys(['loss', 'accuracy', 'val_loss', 'val_accuracy'])\n"
     ]
    }
   ],
   "source": [
    "history_dict = history.history\n",
    "print(history_dict.keys()) # epoch에 따른 그래프를 그려볼 수 있는 항목들"
   ]
  },
  {
   "cell_type": "code",
   "execution_count": 19,
   "id": "de744b68",
   "metadata": {},
   "outputs": [
    {
     "data": {
      "image/png": "[encoded data removed]",
      "text/plain": [
       "<Figure size 576x288 with 2 Axes>"
      ]
     },
     "metadata": {
      "needs_background": "light"
     },
     "output_type": "display_data"
    }
   ],
   "source": [
    "# 모델 성능 시각화\n",
    "\n",
    "import matplotlib.pyplot as plt\n",
    "\n",
    "acc = history_dict['accuracy']\n",
    "val_acc = history_dict['val_accuracy']\n",
    "loss = history_dict['loss']\n",
    "val_loss = history_dict['val_loss']\n",
    "\n",
    "epochs = range(1, len(acc) + 1)\n",
    "\n",
    "plt.figure(figsize=(8, 4))\n",
    "plt.subplot(1, 2, 1)\n",
    "plt.plot(epochs, loss, label='Training loss')\n",
    "plt.plot(epochs, val_loss, 'r', label='Validation loss')\n",
    "plt.title('Training and validation loss')\n",
    "plt.xlabel('Epochs')\n",
    "plt.ylabel('Loss')\n",
    "plt.legend(loc='upper right')\n",
    "\n",
    "plt.subplot(1, 2, 2)\n",
    "plt.plot(epochs, acc, label='Training acc')\n",
    "plt.plot(epochs, val_acc, 'r', label='Validation acc')\n",
    "plt.title('Training and validation accuracy')\n",
    "plt.xlabel('Epochs')\n",
    "plt.ylabel('Accuracy')\n",
    "plt.legend(loc='lower right')\n",
    "\n",
    "plt.show()"
   ]
  },
  {
   "cell_type": "code",
   "execution_count": 20,
   "id": "84f8cfd5",
   "metadata": {},
   "outputs": [
    {
     "name": "stdout",
     "output_type": "stream",
     "text": [
      "Model: \"sequential_1\"\n",
      "_________________________________________________________________\n",
      "Layer (type)                 Output Shape              Param #   \n",
      "=================================================================\n",
      "embedding_1 (Embedding)      (None, None, 16)          160000    \n",
      "_________________________________________________________________\n",
      "conv1d (Conv1D)              (None, None, 16)          1808      \n",
      "_________________________________________________________________\n",
      "max_pooling1d (MaxPooling1D) (None, None, 16)          0         \n",
      "_________________________________________________________________\n",
      "conv1d_1 (Conv1D)            (None, None, 16)          1808      \n",
      "_________________________________________________________________\n",
      "global_max_pooling1d (Global (None, 16)                0         \n",
      "_________________________________________________________________\n",
      "dense_2 (Dense)              (None, 8)                 136       \n",
      "_________________________________________________________________\n",
      "dense_3 (Dense)              (None, 1)                 9         \n",
      "=================================================================\n",
      "Total params: 163,761\n",
      "Trainable params: 163,761\n",
      "Non-trainable params: 0\n",
      "_________________________________________________________________\n"
     ]
    }
   ],
   "source": [
    "# CNN 모델 설계\n",
    "\n",
    "vocab_size = 10000  # 어휘 사전의 크기입니다(10000개의 단어)\n",
    "word_vector_dim = 16   # 단어 하나를 표현하는 임베딩 벡터의 차원 수입니다. \n",
    "\n",
    "model = keras.Sequential()\n",
    "model.add(keras.layers.Embedding(vocab_size, word_vector_dim, input_shape=(None,)))\n",
    "model.add(keras.layers.Conv1D(16, 7, activation='relu'))\n",
    "model.add(keras.layers.MaxPooling1D(5))\n",
    "model.add(keras.layers.Conv1D(16, 7, activation='relu'))\n",
    "model.add(keras.layers.GlobalMaxPooling1D())\n",
    "model.add(keras.layers.Dense(8, activation='relu'))\n",
    "model.add(keras.layers.Dense(1, activation='sigmoid'))  # 최종 출력은 긍정/부정을 나타내는 1dim 입니다.\n",
    "\n",
    "model.summary()"
   ]
  },
  {
   "cell_type": "code",
   "execution_count": 21,
   "id": "82d004d8",
   "metadata": {},
   "outputs": [
    {
     "name": "stdout",
     "output_type": "stream",
     "text": [
      "Epoch 1/10\n",
      "247/247 [==============================] - 3s 6ms/step - loss: 0.4885 - accuracy: 0.7571 - val_loss: 0.3545 - val_accuracy: 0.8440\n",
      "Epoch 2/10\n",
      "247/247 [==============================] - 1s 5ms/step - loss: 0.3284 - accuracy: 0.8599 - val_loss: 0.3396 - val_accuracy: 0.8530\n",
      "Epoch 3/10\n",
      "247/247 [==============================] - 1s 5ms/step - loss: 0.2978 - accuracy: 0.8747 - val_loss: 0.3391 - val_accuracy: 0.8532\n",
      "Epoch 4/10\n",
      "247/247 [==============================] - 1s 5ms/step - loss: 0.2733 - accuracy: 0.8876 - val_loss: 0.3433 - val_accuracy: 0.8548\n",
      "Epoch 5/10\n",
      "247/247 [==============================] - 1s 5ms/step - loss: 0.2465 - accuracy: 0.9013 - val_loss: 0.3538 - val_accuracy: 0.8511\n",
      "Epoch 6/10\n",
      "247/247 [==============================] - 1s 5ms/step - loss: 0.2181 - accuracy: 0.9158 - val_loss: 0.3731 - val_accuracy: 0.8475\n",
      "Epoch 7/10\n",
      "247/247 [==============================] - 1s 5ms/step - loss: 0.1883 - accuracy: 0.9302 - val_loss: 0.3995 - val_accuracy: 0.8471\n",
      "Epoch 8/10\n",
      "247/247 [==============================] - 1s 5ms/step - loss: 0.1600 - accuracy: 0.9432 - val_loss: 0.4283 - val_accuracy: 0.8436\n",
      "Epoch 9/10\n",
      "247/247 [==============================] - 1s 5ms/step - loss: 0.1345 - accuracy: 0.9541 - val_loss: 0.4663 - val_accuracy: 0.8397\n",
      "Epoch 10/10\n",
      "247/247 [==============================] - 1s 5ms/step - loss: 0.1126 - accuracy: 0.9634 - val_loss: 0.5235 - val_accuracy: 0.8324\n"
     ]
    }
   ],
   "source": [
    "# CNN 모델 학습\n",
    "\n",
    "model.compile(optimizer='adam',\n",
    "              loss='binary_crossentropy',\n",
    "              metrics=['accuracy'])\n",
    "              \n",
    "epochs=10  \n",
    "\n",
    "history = model.fit(partial_x_train,\n",
    "                    partial_y_train,\n",
    "                    epochs=epochs,\n",
    "                    batch_size=512,\n",
    "                    validation_data=(x_val, y_val),\n",
    "                    verbose=1)"
   ]
  },
  {
   "cell_type": "code",
   "execution_count": 22,
   "id": "68324562",
   "metadata": {},
   "outputs": [
    {
     "name": "stdout",
     "output_type": "stream",
     "text": [
      "1537/1537 - 2s - loss: 0.5309 - accuracy: 0.8299\n",
      "[0.5308759808540344, 0.8298919796943665]\n"
     ]
    }
   ],
   "source": [
    "# 학습이 끝난 모델 평가\n",
    "\n",
    "results = model.evaluate(x_test,  y_test, verbose=2)\n",
    "print(results)"
   ]
  },
  {
   "cell_type": "code",
   "execution_count": 23,
   "id": "d6405d13",
   "metadata": {},
   "outputs": [
    {
     "name": "stdout",
     "output_type": "stream",
     "text": [
      "dict_keys(['loss', 'accuracy', 'val_loss', 'val_accuracy'])\n"
     ]
    }
   ],
   "source": [
    "history_dict = history.history\n",
    "print(history_dict.keys()) # epoch에 따른 그래프를 그려볼 수 있는 항목들"
   ]
  },
  {
   "cell_type": "code",
   "execution_count": 24,
   "id": "e32c263e",
   "metadata": {},
   "outputs": [
    {
     "data": {
      "image/png": "[encoded data removed]",
      "text/plain": [
       "<Figure size 576x288 with 2 Axes>"
      ]
     },
     "metadata": {
      "needs_background": "light"
     },
     "output_type": "display_data"
    }
   ],
   "source": [
    "acc = history_dict['accuracy']\n",
    "val_acc = history_dict['val_accuracy']\n",
    "loss = history_dict['loss']\n",
    "val_loss = history_dict['val_loss']\n",
    "\n",
    "epochs = range(1, len(acc) + 1)\n",
    "\n",
    "plt.figure(figsize=(8, 4))\n",
    "plt.subplot(1, 2, 1)\n",
    "plt.plot(epochs, loss, label='Training loss')\n",
    "plt.plot(epochs, val_loss, 'r', label='Validation loss')\n",
    "plt.title('Training and validation loss')\n",
    "plt.xlabel('Epochs')\n",
    "plt.ylabel('Loss')\n",
    "plt.legend(loc='upper right')\n",
    "\n",
    "plt.subplot(1, 2, 2)\n",
    "plt.plot(epochs, acc, label='Training acc')\n",
    "plt.plot(epochs, val_acc, 'r', label='Validation acc')\n",
    "plt.title('Training and validation accuracy')\n",
    "plt.xlabel('Epochs')\n",
    "plt.ylabel('Accuracy')\n",
    "plt.legend(loc='lower right')\n",
    "\n",
    "plt.show()"
   ]
  },
  {
   "cell_type": "code",
   "execution_count": 25,
   "id": "b92dd7b4",
   "metadata": {},
   "outputs": [
    {
     "name": "stdout",
     "output_type": "stream",
     "text": [
      "Model: \"sequential_2\"\n",
      "_________________________________________________________________\n",
      "Layer (type)                 Output Shape              Param #   \n",
      "=================================================================\n",
      "embedding_2 (Embedding)      (None, None, 16)          160000    \n",
      "_________________________________________________________________\n",
      "global_max_pooling1d_1 (Glob (None, 16)                0         \n",
      "_________________________________________________________________\n",
      "dense_4 (Dense)              (None, 8)                 136       \n",
      "_________________________________________________________________\n",
      "dense_5 (Dense)              (None, 1)                 9         \n",
      "=================================================================\n",
      "Total params: 160,145\n",
      "Trainable params: 160,145\n",
      "Non-trainable params: 0\n",
      "_________________________________________________________________\n"
     ]
    }
   ],
   "source": [
    "# GlobalMaxPooling1D 모델 설계\n",
    "\n",
    "vocab_size = 10000  # 어휘 사전의 크기입니다(10000개의 단어)\n",
    "word_vector_dim = 16   # 단어 하나를 표현하는 임베딩 벡터의 차원 수입니다. \n",
    "\n",
    "model = keras.Sequential()\n",
    "model.add(keras.layers.Embedding(vocab_size, word_vector_dim, input_shape=(None,)))\n",
    "model.add(keras.layers.GlobalMaxPooling1D())\n",
    "model.add(keras.layers.Dense(8, activation='relu'))\n",
    "model.add(keras.layers.Dense(1, activation='sigmoid'))  # 최종 출력은 긍정/부정을 나타내는 1dim 입니다.\n",
    "\n",
    "model.summary()"
   ]
  },
  {
   "cell_type": "code",
   "execution_count": 26,
   "id": "401e7312",
   "metadata": {},
   "outputs": [
    {
     "name": "stdout",
     "output_type": "stream",
     "text": [
      "Epoch 1/10\n",
      "247/247 [==============================] - 1s 4ms/step - loss: 0.5839 - accuracy: 0.7220 - val_loss: 0.4366 - val_accuracy: 0.8188\n",
      "Epoch 2/10\n",
      "247/247 [==============================] - 1s 3ms/step - loss: 0.3844 - accuracy: 0.8374 - val_loss: 0.3668 - val_accuracy: 0.8378\n",
      "Epoch 3/10\n",
      "247/247 [==============================] - 1s 3ms/step - loss: 0.3330 - accuracy: 0.8579 - val_loss: 0.3560 - val_accuracy: 0.8439\n",
      "Epoch 4/10\n",
      "247/247 [==============================] - 1s 3ms/step - loss: 0.3063 - accuracy: 0.8718 - val_loss: 0.3545 - val_accuracy: 0.8450\n",
      "Epoch 5/10\n",
      "247/247 [==============================] - 1s 3ms/step - loss: 0.2871 - accuracy: 0.8819 - val_loss: 0.3583 - val_accuracy: 0.8448\n",
      "Epoch 6/10\n",
      "247/247 [==============================] - 1s 3ms/step - loss: 0.2719 - accuracy: 0.8891 - val_loss: 0.3630 - val_accuracy: 0.8439\n",
      "Epoch 7/10\n",
      "247/247 [==============================] - 1s 3ms/step - loss: 0.2594 - accuracy: 0.8948 - val_loss: 0.3691 - val_accuracy: 0.8435\n",
      "Epoch 8/10\n",
      "247/247 [==============================] - 1s 3ms/step - loss: 0.2485 - accuracy: 0.9004 - val_loss: 0.3769 - val_accuracy: 0.8439\n",
      "Epoch 9/10\n",
      "247/247 [==============================] - 1s 3ms/step - loss: 0.2388 - accuracy: 0.9052 - val_loss: 0.3844 - val_accuracy: 0.8444\n",
      "Epoch 10/10\n",
      "247/247 [==============================] - 1s 3ms/step - loss: 0.2300 - accuracy: 0.9085 - val_loss: 0.3927 - val_accuracy: 0.8424\n"
     ]
    }
   ],
   "source": [
    "# GlobalMaxPooling1D 모델 훈련\n",
    "\n",
    "model.compile(optimizer='adam',\n",
    "              loss='binary_crossentropy',\n",
    "              metrics=['accuracy'])\n",
    "              \n",
    "epochs=10  \n",
    "\n",
    "history = model.fit(partial_x_train,\n",
    "                    partial_y_train,\n",
    "                    epochs=epochs,\n",
    "                    batch_size=512,\n",
    "                    validation_data=(x_val, y_val),\n",
    "                    verbose=1)"
   ]
  },
  {
   "cell_type": "code",
   "execution_count": 27,
   "id": "09b81374",
   "metadata": {},
   "outputs": [
    {
     "name": "stdout",
     "output_type": "stream",
     "text": [
      "1537/1537 - 2s - loss: 0.4035 - accuracy: 0.8386\n",
      "[0.4034782648086548, 0.8385784029960632]\n"
     ]
    }
   ],
   "source": [
    "# 모델 평가\n",
    "\n",
    "results = model.evaluate(x_test,  y_test, verbose=2)\n",
    "print(results)\n"
   ]
  },
  {
   "cell_type": "code",
   "execution_count": 28,
   "id": "37706de6",
   "metadata": {},
   "outputs": [
    {
     "name": "stdout",
     "output_type": "stream",
     "text": [
      "dict_keys(['loss', 'accuracy', 'val_loss', 'val_accuracy'])\n"
     ]
    }
   ],
   "source": [
    "history_dict = history.history\n",
    "print(history_dict.keys()) # epoch에 따른 그래프를 그려볼 수 있는 항목들"
   ]
  },
  {
   "cell_type": "code",
   "execution_count": 29,
   "id": "60240564",
   "metadata": {},
   "outputs": [
    {
     "data": {
      "image/png": "[encoded data removed]",
      "text/plain": [
       "<Figure size 576x288 with 2 Axes>"
      ]
     },
     "metadata": {
      "needs_background": "light"
     },
     "output_type": "display_data"
    }
   ],
   "source": [
    "acc = history_dict['accuracy']\n",
    "val_acc = history_dict['val_accuracy']\n",
    "loss = history_dict['loss']\n",
    "val_loss = history_dict['val_loss']\n",
    "\n",
    "epochs = range(1, len(acc) + 1)\n",
    "\n",
    "plt.figure(figsize=(8, 4))\n",
    "plt.subplot(1, 2, 1)\n",
    "plt.plot(epochs, loss, label='Training loss')\n",
    "plt.plot(epochs, val_loss, 'r', label='Validation loss')\n",
    "plt.title('Training and validation loss')\n",
    "plt.xlabel('Epochs')\n",
    "plt.ylabel('Loss')\n",
    "plt.legend(loc='upper right')\n",
    "\n",
    "plt.subplot(1, 2, 2)\n",
    "plt.plot(epochs, acc, label='Training acc')\n",
    "plt.plot(epochs, val_acc, 'r', label='Validation acc')\n",
    "plt.title('Training and validation accuracy')\n",
    "plt.xlabel('Epochs')\n",
    "plt.ylabel('Accuracy')\n",
    "plt.legend(loc='lower right')\n",
    "\n",
    "plt.show()"
   ]
  },
  {
   "cell_type": "markdown",
   "id": "de76a324",
   "metadata": {},
   "source": [
    "### Step 6. Word2Vec 적용"
   ]
  },
  {
   "cell_type": "code",
   "execution_count": 30,
   "id": "d197dd17",
   "metadata": {},
   "outputs": [
    {
     "name": "stdout",
     "output_type": "stream",
     "text": [
      "gensim                        3.8.3\n",
      "Note: you may need to restart the kernel to use updated packages.\n"
     ]
    }
   ],
   "source": [
    "pip list | grep gensim"
   ]
  },
  {
   "cell_type": "code",
   "execution_count": 31,
   "id": "e13a9038",
   "metadata": {},
   "outputs": [
    {
     "name": "stdout",
     "output_type": "stream",
     "text": [
      "(10000, 16)\n"
     ]
    }
   ],
   "source": [
    "# embedding layer 확인\n",
    "\n",
    "embedding_layer = model.layers[0]\n",
    "weights = embedding_layer.get_weights()[0]\n",
    "print(weights.shape)    # shape: (vocab_size, embedding_dim)"
   ]
  },
  {
   "cell_type": "code",
   "execution_count": 32,
   "id": "2751442e",
   "metadata": {},
   "outputs": [],
   "source": [
    "import os\n",
    "\n",
    "# 학습한 Embedding 파라미터를 파일에 써서 저장합니다. \n",
    "word2vec_file_path = os.getenv('HOME')+'/aiffel/sentiment_classification/data/word2vec.txt'\n",
    "f = open(word2vec_file_path, 'w')\n",
    "f.write('{} {}\\n'.format(vocab_size-4, word_vector_dim))  # 몇개의 벡터를 얼마 사이즈로 기재할지 타이틀을 씁니다.\n",
    "\n",
    "# 단어 개수(에서 특수문자 4개는 제외하고)만큼의 워드 벡터를 파일에 기록합니다. \n",
    "vectors = model.get_weights()[0]\n",
    "for i in range(4,vocab_size):\n",
    "    f.write('{} {}\\n'.format(index_to_word[i], ' '.join(map(str, list(vectors[i, :])))))\n",
    "f.close()"
   ]
  },
  {
   "cell_type": "code",
   "execution_count": 33,
   "id": "39553741",
   "metadata": {},
   "outputs": [
    {
     "data": {
      "text/plain": [
       "array([ 0.20019801, -0.03005415,  0.04682031, -0.13236313, -0.14758512,\n",
       "        0.08020398, -0.11186281, -0.14524671, -0.18004024, -0.14228602,\n",
       "       -0.04864917,  0.0179465 , -0.12341024,  0.0170996 , -0.11228779,\n",
       "       -0.11492773], dtype=float32)"
      ]
     },
     "execution_count": 33,
     "metadata": {},
     "output_type": "execute_result"
    }
   ],
   "source": [
    "# 임베딩 파라미터를 읽어서 word vector로 활용\n",
    "\n",
    "from gensim.models.keyedvectors import Word2VecKeyedVectors\n",
    "\n",
    "word_vectors = Word2VecKeyedVectors.load_word2vec_format(word2vec_file_path, binary=False)\n",
    "vector = word_vectors['사랑']\n",
    "vector"
   ]
  },
  {
   "cell_type": "code",
   "execution_count": 34,
   "id": "22991626",
   "metadata": {},
   "outputs": [
    {
     "data": {
      "text/plain": [
       "[('ㅠㅠㅠㅠㅠ', 0.9540506601333618),\n",
       " ('원표', 0.9505513906478882),\n",
       " ('린다', 0.9290256500244141),\n",
       " ('씀', 0.9253398776054382),\n",
       " ('기다려', 0.9188269376754761),\n",
       " ('일찍', 0.9182313084602356),\n",
       " ('찾아가', 0.9167588949203491),\n",
       " ('꼽히', 0.9154055118560791),\n",
       " ('짤', 0.9153347015380859),\n",
       " ('댄', 0.9148435592651367)]"
      ]
     },
     "execution_count": 34,
     "metadata": {},
     "output_type": "execute_result"
    }
   ],
   "source": [
    "# 유사도 확인\n",
    "\n",
    "word_vectors.similar_by_word(\"사랑\")"
   ]
  },
  {
   "cell_type": "code",
   "execution_count": 36,
   "id": "47ae7e49",
   "metadata": {},
   "outputs": [
    {
     "name": "stderr",
     "output_type": "stream",
     "text": [
      "/tmp/ipykernel_432/2745062748.py:6: DeprecationWarning: Call to deprecated `__getitem__` (Method will be removed in 4.0.0, use self.wv.__getitem__() instead).\n",
      "  vector = ko_model['사랑']\n"
     ]
    },
    {
     "data": {
      "text/plain": [
       "(200,)"
      ]
     },
     "execution_count": 36,
     "metadata": {},
     "output_type": "execute_result"
    }
   ],
   "source": [
    "# 한국어 word2Vec 가져오기\n",
    "\n",
    "import os\n",
    "word2vec_path = os.getenv('HOME')+'/aiffel/sentiment_classification/data/ko.bin'\n",
    "ko_model = gensim.models.Word2Vec.load(word2vec_path)\n",
    "vector = ko_model['사랑']\n",
    "vector.shape"
   ]
  },
  {
   "cell_type": "code",
   "execution_count": 37,
   "id": "f67d0722",
   "metadata": {},
   "outputs": [
    {
     "data": {
      "text/plain": [
       "[('슬픔', 0.7216662764549255),\n",
       " ('행복', 0.6759077310562134),\n",
       " ('절망', 0.6468985080718994),\n",
       " ('기쁨', 0.6458414196968079),\n",
       " ('이별', 0.6334798336029053),\n",
       " ('추억', 0.6320937275886536),\n",
       " ('인생', 0.6216273307800293),\n",
       " ('애정', 0.6206069588661194),\n",
       " ('연인', 0.6186063289642334),\n",
       " ('유혹', 0.5965287685394287)]"
      ]
     },
     "execution_count": 37,
     "metadata": {},
     "output_type": "execute_result"
    }
   ],
   "source": [
    "# 단어 유사도 확인\n",
    "\n",
    "ko_model.wv.most_similar(\"사랑\")"
   ]
  },
  {
   "cell_type": "code",
   "execution_count": 38,
   "id": "08120cc9",
   "metadata": {},
   "outputs": [
    {
     "data": {
      "text/plain": [
       "[('기쁨', 0.7767106294631958),\n",
       " ('절망', 0.7710496783256531),\n",
       " ('아픔', 0.7430999279022217),\n",
       " ('비탄', 0.7297681570053101),\n",
       " ('고독', 0.7251476049423218),\n",
       " ('사랑', 0.7216662168502808),\n",
       " ('외로움', 0.7195188999176025),\n",
       " ('추억', 0.6951203346252441),\n",
       " ('이별', 0.6873862147331238),\n",
       " ('괴로움', 0.6854110956192017)]"
      ]
     },
     "execution_count": 38,
     "metadata": {},
     "output_type": "execute_result"
    }
   ],
   "source": [
    "ko_model.wv.most_similar(\"슬픔\")"
   ]
  },
  {
   "cell_type": "code",
   "execution_count": 43,
   "id": "874245c9",
   "metadata": {},
   "outputs": [
    {
     "name": "stderr",
     "output_type": "stream",
     "text": [
      "/tmp/ipykernel_432/2319194447.py:11: DeprecationWarning: Call to deprecated `__contains__` (Method will be removed in 4.0.0, use self.wv.__contains__() instead).\n",
      "  if index_to_word[i] in ko_model:\n",
      "/tmp/ipykernel_432/2319194447.py:12: DeprecationWarning: Call to deprecated `__getitem__` (Method will be removed in 4.0.0, use self.wv.__getitem__() instead).\n",
      "  embedding_matrix[i] = ko_model[index_to_word[i]]\n"
     ]
    }
   ],
   "source": [
    "# embedding metrix 생성\n",
    "\n",
    "from tensorflow.keras.initializers import Constant\n",
    "\n",
    "vocab_size = 10000    # 어휘 사전의 크기입니다(10,000개의 단어)\n",
    "word_vector_dim = 200  # 워드 벡터의 차원수는 ko_model의 vector 차원수 200으로!\n",
    "embedding_matrix = np.random.rand(vocab_size, word_vector_dim)\n",
    "\n",
    "# embedding_matrix에 ko_model 워드 벡터를 단어 하나씩마다 차례차례 카피한다.\n",
    "for i in range(4,vocab_size):\n",
    "    if index_to_word[i] in ko_model:\n",
    "        embedding_matrix[i] = ko_model[index_to_word[i]]"
   ]
  },
  {
   "cell_type": "code",
   "execution_count": 47,
   "id": "16f4adc8",
   "metadata": {},
   "outputs": [
    {
     "name": "stdout",
     "output_type": "stream",
     "text": [
      "Epoch 1/10\n",
      "247/247 [==============================] - 2s 7ms/step - loss: 0.5840 - accuracy: 0.6514 - val_loss: 0.4454 - val_accuracy: 0.7919\n",
      "Epoch 2/10\n",
      "247/247 [==============================] - 2s 6ms/step - loss: 0.3922 - accuracy: 0.8251 - val_loss: 0.3783 - val_accuracy: 0.8323\n",
      "Epoch 3/10\n",
      "247/247 [==============================] - 2s 6ms/step - loss: 0.3289 - accuracy: 0.8598 - val_loss: 0.3540 - val_accuracy: 0.8444\n",
      "Epoch 4/10\n",
      "247/247 [==============================] - 2s 6ms/step - loss: 0.2942 - accuracy: 0.8770 - val_loss: 0.3543 - val_accuracy: 0.8450\n",
      "Epoch 5/10\n",
      "247/247 [==============================] - 2s 6ms/step - loss: 0.2669 - accuracy: 0.8907 - val_loss: 0.3650 - val_accuracy: 0.8454\n",
      "Epoch 6/10\n",
      "247/247 [==============================] - 2s 6ms/step - loss: 0.2417 - accuracy: 0.9038 - val_loss: 0.3730 - val_accuracy: 0.8444\n",
      "Epoch 7/10\n",
      "247/247 [==============================] - 2s 6ms/step - loss: 0.2216 - accuracy: 0.9131 - val_loss: 0.3873 - val_accuracy: 0.8449\n",
      "Epoch 8/10\n",
      "247/247 [==============================] - 2s 6ms/step - loss: 0.2006 - accuracy: 0.9225 - val_loss: 0.4082 - val_accuracy: 0.8419\n",
      "Epoch 9/10\n",
      "247/247 [==============================] - 2s 6ms/step - loss: 0.1775 - accuracy: 0.9337 - val_loss: 0.4405 - val_accuracy: 0.8390\n",
      "Epoch 10/10\n",
      "247/247 [==============================] - 2s 6ms/step - loss: 0.1573 - accuracy: 0.9425 - val_loss: 0.4738 - val_accuracy: 0.8385\n"
     ]
    }
   ],
   "source": [
    "# Word2Vec 사용해서 모델 훈련 및 평가 - CNN\n",
    "\n",
    "model = keras.Sequential()\n",
    "model.add(keras.layers.Embedding(vocab_size,\n",
    "                                 word_vector_dim,\n",
    "                                 embeddings_initializer=Constant(embedding_matrix),  # 카피한 임베딩을 여기서 활용\n",
    "                                 input_length=maxlen, \n",
    "                                 trainable=True))\n",
    "model.add(keras.layers.Conv1D(16, 7, activation='relu'))\n",
    "model.add(keras.layers.MaxPooling1D(5))\n",
    "model.add(keras.layers.Conv1D(16, 7, activation='relu'))\n",
    "model.add(keras.layers.GlobalMaxPooling1D())\n",
    "model.add(keras.layers.Dense(8, activation='relu'))\n",
    "model.add(keras.layers.Dense(1, activation='sigmoid'))  # 최종 출력은 긍정/부정을 나타내는 1dim 입니다.\n",
    "\n",
    "model.compile(optimizer='adam',\n",
    "              loss='binary_crossentropy',\n",
    "              metrics=['accuracy'])              \n",
    "epochs=10  \n",
    "\n",
    "history = model.fit(partial_x_train,\n",
    "                    partial_y_train,\n",
    "                    epochs=epochs,\n",
    "                    batch_size=512,\n",
    "                    validation_data=(x_val, y_val),\n",
    "                    verbose=1)"
   ]
  },
  {
   "cell_type": "code",
   "execution_count": 48,
   "id": "bc525b19",
   "metadata": {},
   "outputs": [
    {
     "name": "stdout",
     "output_type": "stream",
     "text": [
      "1537/1537 - 3s - loss: 0.4897 - accuracy: 0.8341\n",
      "[0.4896853268146515, 0.8340826034545898]\n"
     ]
    }
   ],
   "source": [
    "results = model.evaluate(x_test,  y_test, verbose=2)\n",
    "print(results)"
   ]
  },
  {
   "cell_type": "code",
   "execution_count": 49,
   "id": "7eede996",
   "metadata": {},
   "outputs": [
    {
     "data": {
      "image/png": "[encoded data removed]",
      "text/plain": [
       "<Figure size 576x288 with 2 Axes>"
      ]
     },
     "metadata": {
      "needs_background": "light"
     },
     "output_type": "display_data"
    }
   ],
   "source": [
    "# 시각화\n",
    "\n",
    "history_dict = history.history\n",
    "acc = history_dict['accuracy']\n",
    "val_acc = history_dict['val_accuracy']\n",
    "loss = history_dict['loss']\n",
    "val_loss = history_dict['val_loss']\n",
    "\n",
    "epochs = range(1, len(acc) + 1)\n",
    "\n",
    "# Loss 그래프\n",
    "plt.figure(figsize=(8, 4))\n",
    "plt.subplot(1, 2, 1)\n",
    "plt.plot(epochs, loss, label='Training Loss')\n",
    "plt.plot(epochs, val_loss, label='Validation Loss')\n",
    "plt.legend(loc='upper right')\n",
    "plt.title('Training and Validation Loss')\n",
    "\n",
    "# Accuracy 그래프\n",
    "plt.subplot(1, 2, 2)\n",
    "plt.plot(epochs, acc, label='Training Accuracy')\n",
    "plt.plot(epochs, val_acc, label='Validation Accuracy')\n",
    "plt.legend(loc='lower right')\n",
    "plt.title('Training and Validation Accuracy')\n",
    "plt.show()"
   ]
  },
  {
   "cell_type": "code",
   "execution_count": 50,
   "id": "d183ac14",
   "metadata": {},
   "outputs": [
    {
     "name": "stdout",
     "output_type": "stream",
     "text": [
      "Epoch 1/5\n",
      "247/247 [==============================] - 3s 8ms/step - loss: 0.5040 - accuracy: 0.7473 - val_loss: 0.3852 - val_accuracy: 0.8340\n",
      "Epoch 2/5\n",
      "247/247 [==============================] - 2s 6ms/step - loss: 0.3575 - accuracy: 0.8460 - val_loss: 0.3529 - val_accuracy: 0.8475\n",
      "Epoch 3/5\n",
      "247/247 [==============================] - 2s 6ms/step - loss: 0.3188 - accuracy: 0.8659 - val_loss: 0.3419 - val_accuracy: 0.8522\n",
      "Epoch 4/5\n",
      "247/247 [==============================] - 2s 7ms/step - loss: 0.2963 - accuracy: 0.8771 - val_loss: 0.3435 - val_accuracy: 0.8538\n",
      "Epoch 5/5\n",
      "247/247 [==============================] - 2s 7ms/step - loss: 0.2796 - accuracy: 0.8853 - val_loss: 0.3419 - val_accuracy: 0.8548\n"
     ]
    }
   ],
   "source": [
    "# Word2Vec 사용해서 모델 훈련 및 평가 - RNN\n",
    "\n",
    "model = keras.Sequential()\n",
    "model.add(keras.layers.Embedding(vocab_size,\n",
    "                                 word_vector_dim,\n",
    "                                 embeddings_initializer=Constant(embedding_matrix),  # 카피한 임베딩을 여기서 활용\n",
    "                                 input_length=maxlen, \n",
    "                                 trainable=True))   # trainable을 True로 주면 Fine-tuning\n",
    "model.add(keras.layers.LSTM(8)) \n",
    "model.add(keras.layers.Dense(8, activation='relu'))\n",
    "model.add(keras.layers.Dense(1, activation='sigmoid'))\n",
    "\n",
    "model.compile(optimizer='adam',\n",
    "              loss='binary_crossentropy',\n",
    "              metrics=['accuracy'])              \n",
    "epochs=5  \n",
    "\n",
    "history = model.fit(partial_x_train,\n",
    "                    partial_y_train,\n",
    "                    epochs=epochs,\n",
    "                    batch_size=512,\n",
    "                    validation_data=(x_val, y_val),\n",
    "                    verbose=1)"
   ]
  },
  {
   "cell_type": "code",
   "execution_count": 51,
   "id": "27bfb694",
   "metadata": {},
   "outputs": [
    {
     "name": "stdout",
     "output_type": "stream",
     "text": [
      "1537/1537 - 3s - loss: 0.3514 - accuracy: 0.8510\n",
      "[0.35141560435295105, 0.8509876728057861]\n"
     ]
    }
   ],
   "source": [
    "results = model.evaluate(x_test,  y_test, verbose=2)\n",
    "print(results)"
   ]
  },
  {
   "cell_type": "code",
   "execution_count": 52,
   "id": "9c699b25",
   "metadata": {},
   "outputs": [
    {
     "data": {
      "image/png": "[encoded data removed]",
      "text/plain": [
       "<Figure size 576x288 with 2 Axes>"
      ]
     },
     "metadata": {
      "needs_background": "light"
     },
     "output_type": "display_data"
    }
   ],
   "source": [
    "# 시각화\n",
    "\n",
    "history_dict = history.history\n",
    "acc = history_dict['accuracy']\n",
    "val_acc = history_dict['val_accuracy']\n",
    "loss = history_dict['loss']\n",
    "val_loss = history_dict['val_loss']\n",
    "\n",
    "epochs = range(1, len(acc) + 1)\n",
    "\n",
    "# Loss 그래프\n",
    "plt.figure(figsize=(8, 4))\n",
    "plt.subplot(1, 2, 1)\n",
    "plt.plot(epochs, loss, label='Training Loss')\n",
    "plt.plot(epochs, val_loss, label='Validation Loss')\n",
    "plt.legend(loc='upper right')\n",
    "plt.title('Training and Validation Loss')\n",
    "\n",
    "# Accuracy 그래프\n",
    "plt.subplot(1, 2, 2)\n",
    "plt.plot(epochs, acc, label='Training Accuracy')\n",
    "plt.plot(epochs, val_acc, label='Validation Accuracy')\n",
    "plt.legend(loc='lower right')\n",
    "plt.title('Training and Validation Accuracy')\n",
    "plt.show()"
   ]
  },
  {
   "cell_type": "code",
   "execution_count": 56,
   "id": "18d19ed5",
   "metadata": {},
   "outputs": [
    {
     "name": "stdout",
     "output_type": "stream",
     "text": [
      "Epoch 1/20\n",
      "247/247 [==============================] - 2s 5ms/step - loss: 0.6532 - accuracy: 0.6199 - val_loss: 0.5918 - val_accuracy: 0.6879\n",
      "Epoch 2/20\n",
      "247/247 [==============================] - 1s 4ms/step - loss: 0.5496 - accuracy: 0.7228 - val_loss: 0.5174 - val_accuracy: 0.7465\n",
      "Epoch 3/20\n",
      "247/247 [==============================] - 1s 4ms/step - loss: 0.4853 - accuracy: 0.7680 - val_loss: 0.4762 - val_accuracy: 0.7697\n",
      "Epoch 4/20\n",
      "247/247 [==============================] - 1s 4ms/step - loss: 0.4427 - accuracy: 0.7946 - val_loss: 0.4520 - val_accuracy: 0.7882\n",
      "Epoch 5/20\n",
      "247/247 [==============================] - 1s 4ms/step - loss: 0.4112 - accuracy: 0.8136 - val_loss: 0.4269 - val_accuracy: 0.8023\n",
      "Epoch 6/20\n",
      "247/247 [==============================] - 1s 4ms/step - loss: 0.3880 - accuracy: 0.8258 - val_loss: 0.4149 - val_accuracy: 0.8091\n",
      "Epoch 7/20\n",
      "247/247 [==============================] - 1s 4ms/step - loss: 0.3677 - accuracy: 0.8376 - val_loss: 0.4055 - val_accuracy: 0.8145\n",
      "Epoch 8/20\n",
      "247/247 [==============================] - 1s 4ms/step - loss: 0.3503 - accuracy: 0.8472 - val_loss: 0.3995 - val_accuracy: 0.8196\n",
      "Epoch 9/20\n",
      "247/247 [==============================] - 1s 4ms/step - loss: 0.3361 - accuracy: 0.8549 - val_loss: 0.3970 - val_accuracy: 0.8202\n",
      "Epoch 10/20\n",
      "247/247 [==============================] - 1s 4ms/step - loss: 0.3217 - accuracy: 0.8625 - val_loss: 0.3931 - val_accuracy: 0.8248\n",
      "Epoch 11/20\n",
      "247/247 [==============================] - 1s 4ms/step - loss: 0.3097 - accuracy: 0.8691 - val_loss: 0.3910 - val_accuracy: 0.8256\n",
      "Epoch 12/20\n",
      "247/247 [==============================] - 1s 4ms/step - loss: 0.2972 - accuracy: 0.8747 - val_loss: 0.3930 - val_accuracy: 0.8258\n",
      "Epoch 13/20\n",
      "247/247 [==============================] - 1s 4ms/step - loss: 0.2856 - accuracy: 0.8809 - val_loss: 0.4042 - val_accuracy: 0.8188\n",
      "Epoch 14/20\n",
      "247/247 [==============================] - 1s 4ms/step - loss: 0.2743 - accuracy: 0.8868 - val_loss: 0.3949 - val_accuracy: 0.8281\n",
      "Epoch 15/20\n",
      "247/247 [==============================] - 1s 5ms/step - loss: 0.2643 - accuracy: 0.8914 - val_loss: 0.3962 - val_accuracy: 0.8298\n",
      "Epoch 16/20\n",
      "247/247 [==============================] - 1s 4ms/step - loss: 0.2535 - accuracy: 0.8975 - val_loss: 0.4002 - val_accuracy: 0.8286\n",
      "Epoch 17/20\n",
      "247/247 [==============================] - 1s 5ms/step - loss: 0.2446 - accuracy: 0.9010 - val_loss: 0.4080 - val_accuracy: 0.8275\n",
      "Epoch 18/20\n",
      "247/247 [==============================] - 1s 4ms/step - loss: 0.2347 - accuracy: 0.9063 - val_loss: 0.4088 - val_accuracy: 0.8306\n",
      "Epoch 19/20\n",
      "247/247 [==============================] - 1s 4ms/step - loss: 0.2241 - accuracy: 0.9121 - val_loss: 0.4155 - val_accuracy: 0.8292\n",
      "Epoch 20/20\n",
      "247/247 [==============================] - 1s 4ms/step - loss: 0.2152 - accuracy: 0.9165 - val_loss: 0.4205 - val_accuracy: 0.8288\n"
     ]
    }
   ],
   "source": [
    "# Word2Vec 사용해서 모델 훈련 및 평가 - GlobalMaxPooling1D\n",
    "\n",
    "model = keras.Sequential()\n",
    "model.add(keras.layers.Embedding(vocab_size,\n",
    "                                 word_vector_dim,\n",
    "                                 embeddings_initializer=Constant(embedding_matrix),  # 카피한 임베딩을 여기서 활용\n",
    "                                 input_length=maxlen, \n",
    "                                 trainable=True))\n",
    "model.add(keras.layers.GlobalMaxPooling1D())\n",
    "model.add(keras.layers.Dense(8, activation='relu'))\n",
    "model.add(keras.layers.Dense(1, activation='sigmoid'))  # 최종 출력은 긍정/부정을 나타내는 1dim 입니다.\n",
    "\n",
    "model.compile(optimizer='adam',\n",
    "              loss='binary_crossentropy',\n",
    "              metrics=['accuracy'])              \n",
    "epochs=20  \n",
    "\n",
    "history = model.fit(partial_x_train,\n",
    "                    partial_y_train,\n",
    "                    epochs=epochs,\n",
    "                    batch_size=512,\n",
    "                    validation_data=(x_val, y_val),\n",
    "                    verbose=1)"
   ]
  },
  {
   "cell_type": "code",
   "execution_count": 57,
   "id": "bf3dd160",
   "metadata": {},
   "outputs": [
    {
     "name": "stdout",
     "output_type": "stream",
     "text": [
      "1537/1537 - 2s - loss: 0.4319 - accuracy: 0.8226\n",
      "[0.43189728260040283, 0.8225888609886169]\n"
     ]
    }
   ],
   "source": [
    "results = model.evaluate(x_test,  y_test, verbose=2)\n",
    "print(results)"
   ]
  },
  {
   "cell_type": "code",
   "execution_count": 58,
   "id": "e3b5bd07",
   "metadata": {},
   "outputs": [
    {
     "data": {
      "image/png": "[encoded data removed]",
      "text/plain": [
       "<Figure size 576x288 with 2 Axes>"
      ]
     },
     "metadata": {
      "needs_background": "light"
     },
     "output_type": "display_data"
    }
   ],
   "source": [
    "# 시각화\n",
    "\n",
    "history_dict = history.history\n",
    "acc = history_dict['accuracy']\n",
    "val_acc = history_dict['val_accuracy']\n",
    "loss = history_dict['loss']\n",
    "val_loss = history_dict['val_loss']\n",
    "\n",
    "epochs = range(1, len(acc) + 1)\n",
    "\n",
    "# Loss 그래프\n",
    "plt.figure(figsize=(8, 4))\n",
    "plt.subplot(1, 2, 1)\n",
    "plt.plot(epochs, loss, label='Training Loss')\n",
    "plt.plot(epochs, val_loss, label='Validation Loss')\n",
    "plt.legend(loc='upper right')\n",
    "plt.title('Training and Validation Loss')\n",
    "\n",
    "# Accuracy 그래프\n",
    "plt.subplot(1, 2, 2)\n",
    "plt.plot(epochs, acc, label='Training Accuracy')\n",
    "plt.plot(epochs, val_acc, label='Validation Accuracy')\n",
    "plt.legend(loc='lower right')\n",
    "plt.title('Training and Validation Accuracy')\n",
    "plt.show()"
   ]
  },
  {
   "cell_type": "markdown",
   "id": "3dbba9c5",
   "metadata": {},
   "source": [
    "### Step 7. 회고\n",
    "\n",
    "  - 노드에서는 word2Vec을 정상적으로 잘 활용하면 5% 이상의 성능 향상이 발생한다고 하였는데 내가 적용한 모델에서는 word2Vec을 활용해도 정확도의 차이가 크지 않았다.\n",
    "  - word2Vec을 활용한 모델들에서는 성능 향상을 위해서 epoch를 각각 다르게 설정해서 모델을 돌려보았지만 큰 차이가 없었다.\n",
    "  - 아무래도 다른 부분을 수정해줘야지 모델 향상을 이끌어 낼 수 있을 것 같다.\n",
    "  - 아직 이번 프로젝트 노드에 대한 이해가 정확하지 못해서 다른 방법을 통해서 성능 향상을 도전해보지 못한 것은 아쉬운 점으로 남은 것 같다.\n",
    "  - 특히 gensim을 사용하면서 버전을 다운그레이드 해야하는데 있어서 좀 어려움이 있었다.\n",
    "  - 분명 다운그레이드를 완료했는데 버전을 확인하면 최신버전으로 확인되어서 아예 셧다운하고 다시 확인했을때 다운그레이드 버전으로 확인되었다.\n",
    "  - 이번 노드를 끝내긴 했지만 사실 아직 정확한 이해가 되지 않는 부분들이 많다.\n",
    "  - 단어들도 익숙하지 않고 NLP 노드가 확실히 더 어려운 것 같다는 느낌이다."
   ]
  }
 ],
 "metadata": {
  "kernelspec": {
   "display_name": "Python 3 (ipykernel)",
   "language": "python",
   "name": "python3"
  },
  "language_info": {
   "codemirror_mode": {
    "name": "ipython",
    "version": 3
   },
   "file_extension": ".py",
   "mimetype": "text/x-python",
   "name": "python",
   "nbconvert_exporter": "python",
   "pygments_lexer": "ipython3",
   "version": "3.9.7"
  }
 },
 "nbformat": 4,
 "nbformat_minor": 5
}
